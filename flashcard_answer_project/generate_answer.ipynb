{
 "cells": [
  {
   "cell_type": "code",
   "execution_count": 127,
   "metadata": {},
   "outputs": [],
   "source": [
    "import numpy as np\n",
    "import pandas as pd\n",
    "from transformers import pipeline\n",
    "from PyPDF2 import PdfReader\n",
    "import torch\n",
    "import fitz\n",
    "from pdfminer.high_level import extract_text\n",
    "from pdfminer.layout import LTChar\n",
    "from pdfminer.high_level import extract_pages\n",
    "from pdfminer.layout import LTTextContainer, LTChar,LTLine,LAParams\n",
    "import re\n",
    "import os"
   ]
  },
  {
   "cell_type": "code",
   "execution_count": 48,
   "metadata": {},
   "outputs": [],
   "source": [
    "data_dir = \"Venuratech\\\\flashcards_project\\\\data\\\\NEET PREVIOUS YEAR  (2019) - Sheet1.csv\"\n",
    "pdf_dir = \"C:\\\\Users\\\\rishi\\\\OneDrive\\\\Desktop\\\\projects\\\\Venuratech\\\\ncert_pdf\\\\lebo102.pdf\"\n",
    "questions_dir = \"C:\\\\Users\\\\rishi\\\\OneDrive\\\\Desktop\\\\projects\\\\Venuratech\\\\Flash-Card-Generator\\\\files\\\\questions.csv\"\n",
    "context_dir = \"C:\\\\Users\\\\rishi\\\\OneDrive\\\\Desktop\\\\projects\\\\Venuratech\\\\Flash-Card-Generator\\\\files\\\\output.csv\""
   ]
  },
  {
   "cell_type": "code",
   "execution_count": 7,
   "metadata": {},
   "outputs": [],
   "source": [
    "def get_answer(context, question):\n",
    "    # Use the pre-trained model to get the answer\n",
    "    qa_pipeline = pipeline('question-answering', model='deepset/roberta-base-squad2', \\\n",
    "                        tokenizer='deepset/roberta-base-squad2')\n",
    "    result = qa_pipeline(context=context, question=question)\n",
    "    answer = result['answer']\n",
    "    return answer"
   ]
  },
  {
   "cell_type": "code",
   "execution_count": 24,
   "metadata": {},
   "outputs": [],
   "source": [
    "questions_df = pd.read_csv(questions_dir)\n",
    "contexts_df = pd.read_csv(context_dir)"
   ]
  },
  {
   "cell_type": "code",
   "execution_count": 39,
   "metadata": {},
   "outputs": [
    {
     "data": {
      "text/plain": [
       "array(['What is the reproductive event in humans?',\n",
       "       'What is the male reproductive system located in?',\n",
       "       'Where is the male reproductive?',\n",
       "       'What is the name of the sperms in males?',\n",
       "       'What is the name of the text that includes a pair of testes along with accessory ducts glands?',\n",
       "       'Where is the female reproductive system located?',\n",
       "       'What are the differences between the reproductive events in the male and female?',\n",
       "       'What is the female reproductive system?',\n",
       "       'What is the term for transfer of sperms into the female?',\n",
       "       'Where is the male reproductive system located?',\n",
       "       'What is the female reproductive viviparous?',\n",
       "       'What is the female reproductive system located in?',\n",
       "       'What is the male reproductive system?',\n",
       "       'What is the name of the sperms in females?',\n",
       "       'What is the name of the genital tract insemination?',\n",
       "       'What is the male reproductive viviparous?',\n",
       "       'What does ovum cease to do in women around fifty years?'],\n",
       "      dtype=object)"
      ]
     },
     "execution_count": 39,
     "metadata": {},
     "output_type": "execute_result"
    }
   ],
   "source": [
    "questions = questions_df[questions_df['Page']==1]['Question'].values\n",
    "questions"
   ]
  },
  {
   "cell_type": "code",
   "execution_count": 40,
   "metadata": {},
   "outputs": [
    {
     "data": {
      "text/plain": [
       "'chapter 2 human reproduction 2.1 the male reproductive system as you are aware humans are sexually reproducing and 2.2 the female reproductive viviparous. the reproductive events in humans include system formation of gametes gametogenesis i.e. sperms in males 2.3 gametogenesis and ovum in females transfer of sperms into the female 2.4 menstrual cycle genital tract insemination and fusion of male and female gametes fertilisation leading to formation of zygote. this 2.5 fertilisation and is followed by formation and development of blastocyst implantation and its attachment to the uterine wall implantation 2.6 pregnancy and embryonic embryonic development gestation and delivery of the development baby parturition. you have learnt that these reproductive events occur after puberty. there are remarkable 2.7 parturition and lactation differences between the reproductive events in the male and in the female for example sperm formation continues even in old men but formation of ovum ceases in women around the age of fifty years. let us examine the male and female reproductive systems in human. 2.1 t m r s he ale eproductive ystem the male reproductive system is located in the pelvis region figure 2.1a. it includes a pair of testes alongwith accessory ducts glands and the external genitalia. rationalised 202324'"
      ]
     },
     "execution_count": 40,
     "metadata": {},
     "output_type": "execute_result"
    }
   ],
   "source": [
    "context = contexts_df[context_df['Page']==1][\"Preprocessed Text\"].values[0]\n",
    "context"
   ]
  },
  {
   "cell_type": "code",
   "execution_count": 34,
   "metadata": {},
   "outputs": [
    {
     "data": {
      "text/plain": [
       "array([ 1,  2,  3,  4,  5,  6,  7,  8,  9, 10, 11, 12, 13, 14, 15],\n",
       "      dtype=int64)"
      ]
     },
     "execution_count": 34,
     "metadata": {},
     "output_type": "execute_result"
    }
   ],
   "source": [
    "pages = contexts_df['Page'].values\n",
    "pages"
   ]
  },
  {
   "cell_type": "code",
   "execution_count": 41,
   "metadata": {},
   "outputs": [
    {
     "name": "stdout",
     "output_type": "stream",
     "text": [
      "Q : What is the reproductive event in humans?\n",
      "A : system formation of gametes gametogenesis\n",
      "Q : What is the male reproductive system located in?\n",
      "A : pelvis region\n",
      "Q : Where is the male reproductive?\n",
      "A : pelvis region\n",
      "Q : What is the name of the sperms in males?\n",
      "A : gametes gametogenesis\n",
      "Q : What is the name of the text that includes a pair of testes along with accessory ducts glands?\n",
      "A : 2.1a\n",
      "Q : Where is the female reproductive system located?\n",
      "A : 2.2 the female reproductive viviparous\n",
      "Q : What are the differences between the reproductive events in the male and female?\n",
      "A : 2.7 parturition and lactation\n",
      "Q : What is the female reproductive system?\n",
      "A : viviparous\n",
      "Q : What is the term for transfer of sperms into the female?\n",
      "A : ovum\n",
      "Q : Where is the male reproductive system located?\n",
      "A : pelvis region\n",
      "Q : What is the female reproductive viviparous?\n",
      "A : 2.2\n",
      "Q : What is the female reproductive system located in?\n",
      "A : viviparous\n",
      "Q : What is the male reproductive system?\n",
      "A : sexually reproducing\n",
      "Q : What is the name of the sperms in females?\n",
      "A : ovum\n",
      "Q : What is the name of the genital tract insemination?\n",
      "A : 2.4 menstrual cycle\n",
      "Q : What is the male reproductive viviparous?\n",
      "A : female\n",
      "Q : What does ovum cease to do in women around fifty years?\n",
      "A : formation\n"
     ]
    }
   ],
   "source": [
    "for question in questions:\n",
    "    answer = get_answer(context,question)\n",
    "    print(f\"Q : {question}\\nA : {answer}\")"
   ]
  },
  {
   "cell_type": "code",
   "execution_count": null,
   "metadata": {},
   "outputs": [],
   "source": [
    "def extract_text_by_font(pdf_path, target_font):\n",
    "    doc = fitz.open(pdf_path)\n",
    "    text = \"\"\n",
    "\n",
    "    for page_number in range(doc.page_count):\n",
    "        page = doc[page_number]\n",
    "        block_list = page.get_text(\"blocks\")\n",
    "\n",
    "        for block in block_list:\n",
    "            block_font = block[0][\"font\"]\n",
    "            if block_font == target_font:\n",
    "                text += block[4].strip() + \"\\n\"\n",
    "\n",
    "    doc.close()\n",
    "    return text"
   ]
  },
  {
   "cell_type": "code",
   "execution_count": 66,
   "metadata": {},
   "outputs": [],
   "source": [
    "doc = fitz.open(pdf_dir)"
   ]
  },
  {
   "cell_type": "code",
   "execution_count": 73,
   "metadata": {},
   "outputs": [],
   "source": [
    "block_list = doc[1].get_text(\"blocks\")\n"
   ]
  },
  {
   "cell_type": "code",
   "execution_count": 81,
   "metadata": {},
   "outputs": [
    {
     "ename": "AttributeError",
     "evalue": "'tuple' object has no attribute 'get'",
     "output_type": "error",
     "traceback": [
      "\u001b[1;31m---------------------------------------------------------------------------\u001b[0m",
      "\u001b[1;31mAttributeError\u001b[0m                            Traceback (most recent call last)",
      "Cell \u001b[1;32mIn[81], line 1\u001b[0m\n\u001b[1;32m----> 1\u001b[0m \u001b[43mblock_list\u001b[49m\u001b[43m[\u001b[49m\u001b[38;5;241;43m0\u001b[39;49m\u001b[43m]\u001b[49m\u001b[38;5;241;43m.\u001b[39;49m\u001b[43mget\u001b[49m(\u001b[38;5;124m\"\u001b[39m\u001b[38;5;124mfont\u001b[39m\u001b[38;5;124m\"\u001b[39m,{})\n",
      "\u001b[1;31mAttributeError\u001b[0m: 'tuple' object has no attribute 'get'"
     ]
    }
   ],
   "source": [
    "block_list[0].get(\"font\",{})"
   ]
  },
  {
   "cell_type": "code",
   "execution_count": 83,
   "metadata": {},
   "outputs": [
    {
     "ename": "AttributeError",
     "evalue": "'float' object has no attribute 'get'",
     "output_type": "error",
     "traceback": [
      "\u001b[1;31m---------------------------------------------------------------------------\u001b[0m",
      "\u001b[1;31mAttributeError\u001b[0m                            Traceback (most recent call last)",
      "Cell \u001b[1;32mIn[83], line 5\u001b[0m\n\u001b[0;32m      2\u001b[0m block_list \u001b[38;5;241m=\u001b[39m page\u001b[38;5;241m.\u001b[39mget_text(\u001b[38;5;124m\"\u001b[39m\u001b[38;5;124mblocks\u001b[39m\u001b[38;5;124m\"\u001b[39m)\n\u001b[0;32m      4\u001b[0m \u001b[38;5;28;01mfor\u001b[39;00m block \u001b[38;5;129;01min\u001b[39;00m block_list:\n\u001b[1;32m----> 5\u001b[0m     font_info \u001b[38;5;241m=\u001b[39m \u001b[43mblock\u001b[49m\u001b[43m[\u001b[49m\u001b[38;5;241;43m0\u001b[39;49m\u001b[43m]\u001b[49m\u001b[38;5;241;43m.\u001b[39;49m\u001b[43mget\u001b[49m(\u001b[38;5;124m\"\u001b[39m\u001b[38;5;124mfont\u001b[39m\u001b[38;5;124m\"\u001b[39m, {})\n\u001b[0;32m      6\u001b[0m     \u001b[38;5;28mprint\u001b[39m(font_info)\n",
      "\u001b[1;31mAttributeError\u001b[0m: 'float' object has no attribute 'get'"
     ]
    }
   ],
   "source": [
    "page = doc[1]\n",
    "block_list = page.get_text(\"blocks\")\n",
    "\n",
    "for block in block_list:\n",
    "    font_info = block[0].get(\"font\", {})\n",
    "    print(font_info)"
   ]
  },
  {
   "cell_type": "code",
   "execution_count": null,
   "metadata": {},
   "outputs": [],
   "source": [
    "# Font_size of the text is 10.5 keep in mind.So our traget_font_size =10.5"
   ]
  },
  {
   "cell_type": "code",
   "execution_count": 109,
   "metadata": {},
   "outputs": [],
   "source": []
  },
  {
   "cell_type": "code",
   "execution_count": 114,
   "metadata": {},
   "outputs": [],
   "source": [
    "def seperate_text_by_font(path):\n",
    "    Extract_Data=[]\n",
    "    for page_layout in extract_pages(path):\n",
    "        for element in page_layout:\n",
    "            if isinstance(element, LTTextContainer):\n",
    "                for text_line in element:\n",
    "                    for character in text_line:\n",
    "                        if isinstance(character, LTChar):\n",
    "                            Font_size=character.size\n",
    "                Extract_Data.append([Font_size,(element.get_text())])\n",
    "    return Extract_Data"
   ]
  },
  {
   "cell_type": "code",
   "execution_count": 115,
   "metadata": {},
   "outputs": [],
   "source": [
    "context_list = seperate_text_by_font(pdf_dir)"
   ]
  },
  {
   "cell_type": "code",
   "execution_count": 117,
   "metadata": {},
   "outputs": [
    {
     "data": {
      "text/plain": [
       "[[26.0, 'CHAPTER 2\\n'],\n",
       " [30.0, 'HUMAN REPRODUCTION\\n'],\n",
       " [10.0, '2.1 The Male Reproductive\\n'],\n",
       " [10.0, 'System\\n'],\n",
       " [10.0, '2.2 The Female Reproductive\\n'],\n",
       " [10.0, 'System\\n'],\n",
       " [10.0, '2.3 Gametogenesis\\n'],\n",
       " [10.0, '2.4 Menstrual Cycle\\n'],\n",
       " [10.0, '2.5 Fertilisation and\\nImplantation\\n'],\n",
       " [10.0, '2.6 Pregnancy and Embryonic\\n'],\n",
       " [10.0, 'Development\\n'],\n",
       " [10.0, '2.7 Parturition and Lactation\\n'],\n",
       " [10.5,\n",
       "  'As you are aware, humans are sexually reproducing and\\nviviparous. The reproductive events in humans include\\nformation of gametes (gametogenesis), i.e., sperms in males\\nand ovum in females, transfer of sperms into the female\\ngenital tract (insemination) and fusion of male and female\\ngametes (fertilisation) leading to formation of zygote. This\\nis followed by formation and development of blastocyst\\nand  its  attachment  to  the  uterine  wall  (implantation),\\nembryonic development (gestation) and delivery of the\\nbaby (parturition). You have learnt that these reproductive\\nevents  occur  after  puberty.  There  are  remarkable\\ndifferences between the reproductive events in the male\\nand in the female, for example, sperm formation continues\\neven in old men, but formation of ovum ceases in women\\naround the age of fifty years. Let us examine the male and\\nfemale reproductive systems in human.\\n'],\n",
       " [9.799999999999983, '2.1 THE MALE REPRODUCTIVE SYSTEM\\n'],\n",
       " [10.500000000000014,\n",
       "  'The male reproductive system is located in the pelvis region\\n(Figure  2.1a).  It  includes  a  pair  of  testes  alongwith\\naccessory ducts, glands and the external genitalia.\\n'],\n",
       " [8.0, 'HUMAN  REPRODUCTION\\n'],\n",
       " [10.500000000000057,\n",
       "  'The testes are situated outside the\\nabdominal  cavity  within  a  pouch\\ncalled scrotum. The scrotum helps\\nin maintaining the low temperature\\nof the testes (2–2.5o C lower than\\nthe  normal \\ninternal  body\\ntemperature)  necessary  for\\nspermatogenesis. In adults, each\\ntestis is oval in shape, with a length\\nof about 4 to 5 cm and a width of\\nabout  2  to  3  cm.  The  testis  is\\ncovered by a dense covering. Each\\ntestis has about 250 compartments\\ncalled \\nlobules\\ntesticular \\n(Figure 2.1b).\\n'],\n",
       " [10.5,\n",
       "  'Each  lobule  contains  one  to\\nthree  highly  coiled  seminiferous\\ntubules  in  which  sperms  are\\nproduced. Each seminiferous tubule\\nis lined on its inside by two types\\nof  cells  called  male  germ  cells\\n(spermatogonia) and Sertoli cells\\n(Figure 2.2 ). The male germ cells\\nundergo  meiotic  divisions  finally\\nleading to sperm formation, while\\nSertoli cells provide nutrition to the\\ngerm cells. The regions outside the\\nseminiferous  tubules  called\\ninterstitial  spaces,  contain  small\\nblood vessels and interstitial cells\\nor Leydig cells (Figure 2.2). Leydig\\ncells  synthesise  and  secrete\\ntesticular  hormones  called\\nandrogens. Other  immunologically\\ncompetent cells are also present.\\n'],\n",
       " [9.5,\n",
       "  'Figure  2.1(a) Diagrammatic  sectional  view  of  male  pelvis\\nshowing  reproductive  system\\n'],\n",
       " [9.5, 'Figure 2.1(b) Diagrammatic view of male reproductive system\\n'],\n",
       " [9.500000000000028, '(part of testis is open to show inner  details)\\n'],\n",
       " [10.5,\n",
       "  'The male sex accessory ducts include rete testis, vasa efferentia,\\nepididymis and vas deferens (Figure 2.1b). The seminiferous tubules of\\nthe testis open into the vasa efferentia through rete testis. The vasa efferentia\\nleave the testis and open into epididymis located along the posterior surface\\nof each testis. The epididymis leads to vas deferens that ascends to the\\nabdomen and loops over the urinary bladder. It receives a duct from seminal\\nvesicle and opens into urethra as the ejaculatory duct (Figure 2.1a). These\\nducts store and transport the sperms from the testis to the outside through\\nurethra. The urethra originates from the urinary bladder and extends\\nthrough the penis to its external opening called urethral meatus.\\n'],\n",
       " [14.0, '27\\n'],\n",
       " [8.0, 'BIOLOGY\\n'],\n",
       " [9.5,\n",
       "  'Figure  2.2  Diagrammatic  sectional  view  of  seminiferous  tubule\\n'],\n",
       " [10.5,\n",
       "  'The penis is the male external genitalia (Figure 2.1a, b). It is made up\\nof special tissue that helps in erection of the penis to facilitate insemination.\\nThe enlarged end of penis called the glans penis is covered by a loose fold\\nof skin called foreskin.\\n'],\n",
       " [10.5,\n",
       "  'The male accessory glands (Figure 2.1a, b) include paired seminal\\nvesicles, a prostate and paired bulbourethral glands. Secretions of these\\nglands constitute the seminal plasma which is rich in fructose, calcium\\nand certain enzymes. The secretions of bulbourethral glands also helps\\nin the lubrication of the penis.\\n'],\n",
       " [9.800000000000011, '2.2 THE FEMALE REPRODUCTIVE SYSTEM\\n'],\n",
       " [10.5,\n",
       "  'The female reproductive system consists of a pair of ovaries alongwith a pair\\nof oviducts, uterus, cervix, vagina and the external genitalia located in\\npelvic region (Figure 2.3a). These parts of the system alongwith a pair of the\\nmammary glands are integrated structurally and functionally to support\\nthe processes of ovulation, fertilisation, pregnancy, birth and child care.\\n'],\n",
       " [10.5,\n",
       "  'Ovaries are the primary female sex organs that produce the female\\ngamete  (ovum)  and  several  steroid  hormones  (ovarian  hormones).\\nThe  ovaries  are  located  one  on  each  side  of  the  lower  abdomen\\n(Figure 2.3b). Each ovary is about 2 to 4 cm in length and is connected to\\nthe pelvic wall and uterus by ligaments. Each ovary is covered by a thin\\nepithelium which encloses the ovarian stroma. The stroma is divided into\\ntwo zones – a peripheral cortex and an inner medulla.\\n'],\n",
       " [14.0, '28\\n'],\n",
       " [8.0, 'HUMAN  REPRODUCTION\\n'],\n",
       " [9.5,\n",
       "  'Figure 2.3 (a) Diagrammatic  sectional  view  of  female  pelvis  showing\\n'],\n",
       " [9.5, 'reproductive  system\\n'],\n",
       " [10.5,\n",
       "  'The oviducts (fallopian tubes), uterus and vagina constitute the female\\naccessory ducts. Each fallopian tube is about 10-12 cm long and extends\\nfrom the periphery of each ovary to the uterus (Figure 2.3b), the part closer\\nto  the  ovary  is  the  funnel-shaped  infundibulum.  The  edges  of  the\\ninfundibulum possess finger-like projections called fimbriae, which help in\\ncollection of the ovum after ovulation. The infundibulum leads to a wider\\n'],\n",
       " [14.0, '29\\n'],\n",
       " [9.5,\n",
       "  'Figure  2.3  (b) Diagrammatic sectional view of the female reproductive  system\\n'],\n",
       " [8.0, 'BIOLOGY\\n'],\n",
       " [10.5,\n",
       "  'part of the oviduct called ampulla. The last part of the oviduct, isthmus has\\na narrow lumen and it joins the uterus.\\n'],\n",
       " [10.5,\n",
       "  'The uterus is single and it is also called womb. The shape of the uterus\\nis like an inverted pear. It is supported by ligaments attached to the pelvic\\nwall. The uterus opens into vagina through a narrow cervix. The cavity of\\nthe cervix is called cervical canal (Figure 2.3b) which alongwith vagina\\nforms the birth canal. The wall of the uterus has three layers of tissue. The\\nexternal thin membranous  perimetrium,  middle  thick layer of smooth\\nmuscle, myometrium and inner glandular layer called endometrium that\\nlines the uterine cavity. The endometrium undergoes cyclical changes during\\nmenstrual cycle while the myometrium exhibits strong contraction during\\ndelivery of the baby.\\n'],\n",
       " [10.5,\n",
       "  'The female external genitalia include mons pubis, labia majora, labia\\nminora, hymen and clitoris (Figure 2.3a). Mons pubis is a cushion of fatty\\ntissue covered by skin and pubic hair. The labia majora are fleshy folds of\\ntissue, which extend down from the mons pubis and surround the vaginal\\nopening. The labia minora are paired folds of tissue under the labia majora.\\nThe opening of the vagina is often covered partially by a membrane called\\nhymen. The clitoris is a tiny finger-like structure which lies at the upper\\njunction of the two labia minora above the urethral opening.  The hymen is\\noften torn during the first coitus (intercourse). However, it can also be broken\\nby a sudden fall or jolt, insertion of a vaginal tampon, active participation\\nin some sports like horseback riding, cycling, etc. In some women the hymen\\npersists even after coitus. In fact, the presence or absence of hymen is not\\na reliable indicator of virginity or sexual experience.\\n'],\n",
       " [14.0, '30\\n'],\n",
       " [9.5, 'Figure  2.4  A  diagrammatic  sectional  view  of  Mammary  gland\\n'],\n",
       " [8.0, 'HUMAN  REPRODUCTION\\n'],\n",
       " [10.5,\n",
       "  'A functional mammary gland is characteristic of all female mammals.\\nThe  mammary  glands  are  paired  structures  (breasts)  that  contain\\nglandular tissue and variable amount of fat. The glandular tissue of each\\nbreast is divided into 15-20 mammary lobes containing clusters of cells\\ncalled alveoli (Figure 2.4). The cells of alveoli secrete milk, which is stored\\nin the cavities (lumens) of alveoli. The alveoli open into mammary tubules.\\nThe tubules of each lobe join to form a mammary duct. Several mammary\\nducts  join  to  form  a  wider  mammary  ampulla  which  is  connected  to\\nlactiferous duct through which milk is sucked out.\\n'],\n",
       " [9.799999999999955, '2.3 GAMETOGENESIS\\n'],\n",
       " [10.5,\n",
       "  'The primary sex organs – the testis in the males and the ovaries in the\\nfemales – produce gametes, i.e, sperms and ovum, respectively, by the\\nprocess called gametogenesis. In testis, the immature male germ cells\\n(spermatogonia) produce sperms by spermatogenesis that begins at\\npuberty.  The spermatogonia (sing. spermatogonium) present on the\\ninside wall of seminiferous tubules multiply by mitotic division and\\nincrease in numbers. Each spermatogonium is diploid and contains 46\\nchromosomes.  Some  of  the  spermatogonia  called  p r i m a r y\\nspermatocytes periodically undergo meiosis. A primary spermatocyte\\ncompletes  the  first  meiotic  division  (reduction  division)  leading  to\\nformation of two equal,  haploid cells called\\nsecondary  spermatocytes,  which  have\\nonly 23 chromosomes each. The secondary\\nspermatocytes undergo the second meiotic\\ndivision  to  produce  four  equal,  haploid\\nspermatids (Figure 2.5). What would be the\\nnumber of chromosome in the spermatids?\\nThe  spermatids  are  transformed  into\\nspermatozoa  (sperms)  by  the  process\\ncalled \\nAfter\\ns p e r m i o g e n e s i s. \\nspermiogenesis,  sperm  heads  become\\nembedded in the Sertoli cells, and are finally\\nreleased from the seminiferous tubules by\\nthe process  called spermiation.\\n'],\n",
       " [10.5,\n",
       "  'Spermatogenesis  starts  at  the  age  of\\npuberty  due  to  significant  increase  in  the\\nsecretion of gonadotropin releasing hormone\\n(GnRH). This, if you recall, is a hypothalamic hormone. The increased\\nlevels of GnRH then acts at the anterior pituitary gland and stimulates\\nsecretion of two gonadotropins – luteinising hormone (LH) and follicle\\nstimulating hormone (FSH).  LH acts at the Leydig cells and stimulates\\nsynthesis and secretion of androgens. Androgens, in turn, stimulate the\\nprocess of spermatogenesis. FSH acts on the Sertoli cells and stimulates\\n'],\n",
       " [9.5, 'Figure  2.5 Diagrammatic  sectional  view  of  a\\n'],\n",
       " [9.5, 'seminiferous  tubule  (enlarged)\\n'],\n",
       " [14.0, '31\\n'],\n",
       " [8.0, 'BIOLOGY\\n'],\n",
       " [10.5,\n",
       "  'secretion  of  some  factors  which  help  in  the\\nprocess of spermiogenesis.\\n'],\n",
       " [10.5,\n",
       "  'Let us examine the structure of a sperm. It\\nis a microscopic structure composed of a head,\\nneck, a middle piece and a tail (Figure 2.6).\\nA plasma membrane envelops the whole body\\nof sperm. The sperm head contains an elongated\\nhaploid nucleus, the anterior portion of which\\nis covered by a cap-like structure, acrosome.\\nThe acrosome is filled with enzymes that help\\nfertilisation  of  the  ovum.  The  middle  piece\\npossesses  numerous  mitochondria,  which\\nproduce energy for the movement of  tail that\\nfacilitate sperm motility essential for fertilisation.\\nThe human male ejaculates about 200 to 300\\nmillion  sperms  during  a  coitus  of  which, for\\nnormal  fertility, at least 60 per cent sperms\\nmust have normal shape and size and at least\\n40  per  cent  of  them  must  show  vigorous\\nmotility.\\n'],\n",
       " [9.5, 'Figure  2.6  Structure  of  a  sperm\\n'],\n",
       " [10.5,\n",
       "  'Sperms  released  from  the  seminiferous\\ntubules,  are  transported  by  the  accessory\\nducts.  Secretions  of  epididymis,  vas  deferens,  seminal  vesicle  and\\nprostate are essential for maturation and motility of sperms. The seminal\\nplasma along with the sperms constitute the semen. The functions of\\nmale sex accessory ducts and glands are maintained by the testicular\\nhormones (androgens).\\n'],\n",
       " [10.5,\n",
       "  'The process of formation of a mature female gamete is called oogenesis\\nwhich is markedly different from spermatogenesis. Oogenesis is initiated\\nduring the embryonic development stage when a couple of million gamete\\nmother cells (oogonia) are formed within each fetal ovary; no more oogonia\\nare formed and added after birth. These cells start division and enter into\\nprophase-I of the meiotic division and get temporarily arrested at that stage,\\ncalled primary oocytes. Each primary oocyte then gets surrounded by a\\nlayer of granulosa cells and is called the primary follicle (Figure 2.7). A\\nlarge number of these follicles degenerate during the phase from birth to\\npuberty. Therefore, at puberty only 60,000-80,000 primary follicles are\\nleft in each ovary. The primary follicles get surrounded by more layers of\\ngranulosa cells and a new theca and are called secondary follicles.\\n'],\n",
       " [10.5,\n",
       "  'The secondary follicle soon transforms into a tertiary follicle which is\\ncharacterised by a fluid filled cavity called antrum. The theca layer is\\norganised into an inner theca interna and an outer theca externa. It is\\nimportant to draw your attention that it is at this stage that the primary\\noocyte within the tertiary follicle grows in size and completes its first meiotic\\ndivision. It is an unequal division resulting in the formation of a large\\nhaploid secondary oocyte and a tiny first polar body (Figure 2.8b). The\\n'],\n",
       " [14.0, '32\\n'],\n",
       " [8.0, 'HUMAN  REPRODUCTION\\n'],\n",
       " [10.5,\n",
       "  'secondary  oocyte  retains  bulk  of  the\\nnutrient rich cytoplasm of the primary\\noocyte. Can you think of any advantage\\nfor this? Does the first polar body born\\nout of first meiotic division divide further\\nor degenerate?  At present we are not\\nvery  certain  about  this.  The  tertiary\\nfollicle further changes into the mature\\nfollicle or Graafian follicle (Figure 2.7).\\nThe  secondary  oocyte  forms  a  new\\nmembrane  called  zona  pellucida\\nsurrounding it. The Graafian follicle now\\nruptures to release the secondary oocyte\\n(ovum)  from  the  ovary  by  the\\nprocess  called  ovulation.  Can  you\\nidentify  major  differences  between\\nspermatogenesis  and  oogenesis?    A  diagrammatic  representation  of\\nspermatogenesis and oogenesis is given below (Figure 2.8).\\n'],\n",
       " [9.5, 'Figure  2.7  Diagrammatic  Section  view  of  ovary\\n'],\n",
       " [9.5, '(a)\\n'],\n",
       " [9.5, '(b)\\n'],\n",
       " [9.5,\n",
       "  'Figure  2.8  Schematic  representation  of  (a)  Spermatogenesis;  (b)  Oogenesis\\n'],\n",
       " [9.799999999999983, '2.4 MENSTRUAL CYCLE\\n'],\n",
       " [10.5,\n",
       "  'The reproductive cycle in the female primates (e.g. monkeys, apes and\\nhuman beings) is called menstrual cycle. The first menstruation begins\\nat puberty and is called menarche. In human females, menstruation\\nis repeated at an average interval of about 28/29 days, and the cycle of\\nevents starting from one menstruation till the next one is called the\\nmenstrual cycle. One ovum is released (ovulation) during the middle\\n'],\n",
       " [14.0, '33\\n'],\n",
       " [8.0, 'BIOLOGY\\n'],\n",
       " [9.5,\n",
       "  'Figure  2.9  Diagrammatic  presentation  of  various  events  during  a  menstrual  cycle\\n'],\n",
       " [14.0, '34\\n'],\n",
       " [10.5,\n",
       "  'of each menstrual cycle. The major events of the menstrual cycle are\\nshown in Figure 2.9. The cycle starts with the menstrual phase, when\\nmenstrual flow occurs and it lasts for 3-5 days. The menstrual flow\\nresults due to breakdown of endometrial lining of the uterus and its\\nblood  vessels  which  forms  liquid  that  comes  out  through  vagina.\\nMenstruation only occurs if the released ovum is not fertilised. Lack of\\nmenstruation may be indicative of pregnancy. However, it may also be\\ncaused due to some other underlying causes like stress, poor health etc.\\nThe  menstrual  phase  is  followed  by  the  follicular  phase.  During\\nthis  phase,  the  primary  follicles  in  the  ovary  grow  to  become  a\\nfully  mature  Graafian  follicle  and  simultaneously  the  endometrium\\nof  uterus  regenerates  through  proliferation.  These  changes  in  the\\novary  and  the  uterus  are  induced  by  changes  in  the  levels  of\\npituitary  and  ovarian  hormones  (Figure  2.9).  The  secretion  of\\n'],\n",
       " [11.0, 'Menstrual  Hygiene\\n'],\n",
       " [9.0,\n",
       "  'Maintenance of\\nhygiene and sanitation\\nduring menstruation is\\nvery important. Take\\nbath and clean yourself\\nregulary. Use sanitary\\nnapkins or clean\\nhomemade pads.\\nChange sanitary\\nnapkins or homemade\\npads after every 4–5 hrs\\nas per the requirement.\\nDispose of the used\\nsanitary napkins\\nproperly wrapping it\\nwith a used paper. Do\\nnot throw the used\\nnapkins in the\\ndrainpipe of toilets or\\nin the open area. After\\nhandling the napkin\\nwash hands with soap.\\n'],\n",
       " [8.0, 'HUMAN  REPRODUCTION\\n'],\n",
       " [10.5,\n",
       "  'gonadotropins (LH and FSH) increases gradually during the follicular\\nphase, and stimulates follicular development as well as secretion of\\nestrogens by the growing follicles. Both LH and FSH attain a peak level\\nin the middle of cycle (about 14th day). Rapid secretion of LH leading to\\nits maximum level during the mid-cycle called LH surge induces rupture\\nof Graafian follicle and thereby the release of ovum (ovulation). The\\novulation (ovulatory phase) is followed by the luteal phase during which\\nthe remaining parts of the Graafian follicle transform as the corpus\\nluteum  (Figure  2.9).  The  corpus  luteum  secretes  large  amounts  of\\nprogesterone which is essential for maintenance of the endometrium.\\nSuch an endometrium is necessary for implantation of the fertilised\\novum and other events of pregnancy. During pregnancy all events of\\nthe menstrual cycle stop and there is no menstruation.  In the absence\\nof fertilisation, the corpus luteum degenerates. This causes disintegration\\nof the endometrium leading to menstruation, marking a new cycle.  In\\nhuman beings, menstrual cycles ceases around 50 years of age; that is\\ntermed as menopause. Cyclic menstruation is an indicator of normal\\nreproductive phase and extends between menarche and menopause.\\n'],\n",
       " [9.100000000000023, '2.5 FERTILISATION AND IMPLANTATION\\n'],\n",
       " [10.5,\n",
       "  'During copulation (coitus) semen is released by the penis into the vagina\\n(insemination). The motile sperms swim rapidly, pass through the cervix,\\nenter  into  the  uterus  and  finally  reach  the  ampullary  region  of  the\\nfallopian tube (Figure 2.11b). The ovum released by the ovary is also\\ntransported to the ampullary region\\nwhere  fertilisation  takes  place.\\nFertilisation  can  only  occur  if  the\\novum  and  sperms  are  transported\\nsimultaneously  to  the  ampullary\\nregion.  This is the reason why not all\\ncopulations lead to fertilisation and\\npregnancy.\\n'],\n",
       " [10.5,\n",
       "  'The process of fusion of a sperm\\nwith an ovum is called fertilisation.\\nDuring fertilisation, a sperm comes in\\ncontact with the zona pellucida layer\\nof the ovum  (Figure 2.10) and induces\\nchanges in the membrane  that block\\nthe entry of additional sperms.  Thus,\\nit  ensures  that  only  one  sperm  can\\nfertilise an ovum.  The secretions of the\\nacrosome help the sperm enter into the\\ncytoplasm  of  the  ovum  through  the\\nzona  pellucida  and  the  plasma\\n'],\n",
       " [14.0, '35\\n'],\n",
       " [14.0, '35\\n'],\n",
       " [9.5, 'Figure  2.10  Ovum  surrounded  by  few  sperms\\n'],\n",
       " [8.0, 'BIOLOGY\\n'],\n",
       " [10.5,\n",
       "  'membrane.  This  induces  the  completion  of  the  meiotic  division  of  the\\nsecondary oocyte. The second meiotic division is also unequal and results\\nin the formation of a second polar body and a haploid ovum (ootid). Soon\\nthe haploid nucleus of the sperms and that of the ovum fuse together to\\nform a diploid zygote.  How many chromosomes will be there in the zygote?\\nOne has to remember that the sex of the baby has been decided at this\\nstage itself. Let us see how? As you know the chromosome pattern in the\\nhuman female is XX and that in the male is XY. Therefore, all the haploid\\ngametes (ova) produced by the female have the sex chromosome X whereas\\nin the male gametes (sperms) the sex chromosome could be either X or Y,\\nhence, 50 per cent of sperms carry the X chromosome while the other 50 per\\ncent carry the Y. After fusion of the male and female gametes the zygote\\nwould carry either XX or XY depending on whether the sperm carrying X\\nor Y fertilised the ovum. The zygote carrying XX would develop into a female\\nbaby and XY would form a male (you will learn more about the chromosomal\\npatterns in Chapter 5). That is why, scientifically it is correct to say that the\\nsex of the baby is determined by the father and not by the mother!\\n'],\n",
       " [10.5,\n",
       "  'The mitotic division  starts as the zygote moves through the isthmus\\nof the oviduct called cleavage towards the uterus (Figure 2.11) and forms\\n2, 4, 8, 16 daughter cells called blastomeres. The embryo with 8 to 16\\n'],\n",
       " [14.0, '36\\n'],\n",
       " [9.5,\n",
       "  'Figure  2.11  Transport  of  ovum,  fertilisation  and  passage  of  growing  embryo  through  fallopian  tube\\n'],\n",
       " [8.0, 'HUMAN  REPRODUCTION\\n'],\n",
       " [10.5,\n",
       "  'blastomeres is called a morula (Figure 2.11e). The morula continues to\\ndivide and transforms into blastocyst (Figure 2.11g) as it moves further\\ninto the uterus. The blastomeres in the blastocyst are arranged into an\\nouter layer called trophoblast and an inner group of cells attached to\\ntrophoblast called the inner cell mass. The trophoblast layer then gets\\nattached to the endometrium and the inner cell mass gets differentiated\\nas the embryo. After attachment, the uterine cells divide rapidly and covers\\nthe  blastocyst.  As  a  result,  the  blastocyst  becomes  embedded  in  the\\nendometrium of the uterus (Figure 2.11 step H). This is called implantation\\nand it leads to pregnancy.\\n'],\n",
       " [9.799999999999955, '2.6 PREGNANCY AND EMBRYONIC DEVELOPMENT\\n'],\n",
       " [10.5,\n",
       "  'After implantation, finger-like projections appear on the trophoblast called\\nchorionic villi which are surrounded by the uterine tissue and maternal\\nblood. The chorionic villi and uterine tissue become interdigitated with\\neach  other  and  jointly  form  a  structural  and  functional  unit  between\\ndeveloping embryo (foetus) and maternal body called placenta (Figure 2.12).\\nThe  placenta  facilitate  the  supply  of  oxygen  and  nutrients  to  the\\nembryo and also removal of carbon dioxide and excretory/waste materials\\nproduced by the embryo. The placenta is connected to the embryo through\\nan umbilical cord which helps in the transport of substances to and from\\nthe embryo. Placenta also acts as an endocrine tissue and produces\\nseveral hormones like human chorionic gonadotropin (hCG), human\\nplacental lactogen (hPL), estrogens, progestogens, etc. In the later\\nphase  of  pregnancy,  a  hormone  called  relaxin  is  also  secreted  by\\nthe  ovary.  Let  us  remember\\nthat  hCG,  hPL  and  relaxin\\nare  produced  in  women\\nonly  during  pregnancy.  In\\naddition,  during  pregnancy\\nthe levels of other hormones\\nlike estrogens, progestogens,\\ncortisol, prolactin, thyroxine,\\netc.,  are  increased  several-\\nfolds  in  the  maternal  blood.\\nIncreased production of these\\nhormones  is  essential  for\\nsupporting  the  fetal  growth,\\nmetabolic  changes  in  the\\nmother  and  maintenance  of\\npregnancy.\\n'],\n",
       " [10.500000000000014, 'Immediately \\n'],\n",
       " [10.5,\n",
       "  'after\\nimplantation,  the  inner  cell\\nmass  (embryo)  differentiates\\n'],\n",
       " [9.5, 'Figure  2.12  The  human  foetus  within  the  uterus\\n'],\n",
       " [14.0, '37\\n'],\n",
       " [8.0, 'BIOLOGY\\n'],\n",
       " [10.5,\n",
       "  'into an outer layer called ectoderm and an inner layer called endoderm. A\\nmesoderm soon appears between the ectoderm and the endoderm. These\\nthree layers give rise to all tissues (organs) in adults. It needs to be mentioned\\nhere that the inner cell mass contains certain cells called stem cells which\\nhave the potency to give rise to all the tissues and organs.\\n'],\n",
       " [10.5,\n",
       "  'What are the major features of embryonic development at various\\nmonths of pregnancy?  The human pregnancy lasts 9 months. Do you\\nknow for  how many months pregnancy last in dogs, elephants, cats?\\nFind out. In human beings, after one month of pregnancy, the embryo’s\\nheart is formed. The first sign of growing foetus may be noticed by listening\\nto the  heart sound carefully through the stethoscope. By the end of the\\nsecond month of pregnancy, the foetus develops limbs and digits. By the\\nend of 12 weeks (first trimester), most of the major organ systems are\\nformed,  for  example,  the  limbs  and  external  genital  organs  are  well-\\ndeveloped. The first movements of the foetus and appearance of hair on\\nthe head are usually observed during the fifth month. By the end of about\\n24 weeks (end of second trimester), the body is covered with fine hair,\\neye-lids separate, and eyelashes are formed.  By the end of nine months\\nof pregnancy, the foetus is fully developed and is ready for delivery.\\n'],\n",
       " [9.100000000000023, '2.7 PARTURITION AND LACTATION\\n'],\n",
       " [10.5,\n",
       "  'The  average  duration  of  human  pregnancy  is  about  9  months\\nwhich is called the gestation period. Vigorous contraction of the uterus at\\nthe end of pregnancy causes expulsion/delivery of the foetus. This process\\nof  delivery  of  the  foetus  (childbirth)  is  called  parturition.  Parturition  is\\ninduced  by  a  complex  neuroendocrine  mechanism.  The  signals  for\\nparturition  originate  from  the  fully  developed  foetus  and  the  placenta\\nwhich induce mild uterine contractions called foetal ejection reflex. This\\ntriggers release of oxytocin from the maternal pituitary. Oxytocin acts on\\nthe  uterine  muscle  and  causes  stronger  uterine  contractions,  which  in\\nturn stimulates further secretion of oxytocin. The stimulatory reflex between\\nthe  uterine  contraction  and  oxytocin  secretion  continues  resulting  in\\nstronger and stronger contractions. This leads to expulsion of the baby\\nout  of  the  uterus  through  the  birth  canal  –  parturition.  Soon  after  the\\ninfant is delivered, the placenta is also expelled out of the uterus. What do\\nyou  think  the  doctors  inject  to  induce  delivery?\\n'],\n",
       " [10.5,\n",
       "  'The mammary glands of the female undergo differentiation during\\npregnancy and starts producing milk towards the end of pregnancy by\\nthe process called lactation. This helps the mother in feeding the new-\\nborn. The milk produced during the initial few days of lactation is called\\ncolostrum  which  contains  several  antibodies  absolutely  essential  to\\ndevelop resistance for the new-born babies. Breast-feeding during the\\ninitial period of infant growth is recommended by doctors for bringing up\\na healthy baby.\\n'],\n",
       " [14.0, '38\\n'],\n",
       " [8.0, 'HUMAN  REPRODUCTION\\n'],\n",
       " [13.0, 'SUMMARY\\n'],\n",
       " [9.5,\n",
       "  'Humans  are  sexually  reproducing  and  viviparous.  The  male\\nreproductive  system  is  composed  of  a  pair  of  testes,  the  male  sex\\naccessory ducts and the accessory glands and external genitalia. Each\\ntestis  has  about  250  compartments  called  testicular  lobules,  and  each\\nlobule  contains  one  to  three  highly  coiled  seminiferous  tubules.  Each\\nseminiferous  tubule  is  lined  inside  by  spermatogonia  and  Sertoli  cells.\\nThe spermatogonia undergo meiotic divisions leading to sperm formation,\\nwhile Sertoli cells provide nutrition to the dividing germ cells. The Leydig\\ncells outside the seminiferous tubules, synthesise and secrete testicular\\nhormones called androgens. The male external genitalia is called penis.\\nThe female reproductive system consists of a pair of ovaries, a pair\\nof  oviducts,  a  uterus,  a  vagina,  external  genitalia,  and  a  pair  of\\nmammary  glands.  The  ovaries  produce  the  female  gamete  (ovum)  and\\nsome steroid hormones (ovarian hormones). Ovarian follicles in different\\nstages of development are embedded in the stroma. The oviducts, uterus\\nand  vagina  are  female  accessory  ducts.  The  uterus  has  three  layers\\nnamely  perimetrium,  myometrium  and  endometrium.  The  female\\nexternal  genitalia  includes  mons  pubis,  labia  majora,  labia  minora,\\nhymen  and  clitoris.  The  mammary  glands  are  one  of  the  female\\nsecondary  sexual  characteristics.\\n'],\n",
       " [9.5,\n",
       "  'Spermatogenesis  results  in  the  formation  of  sperms  that  are\\ntransported  by  the  male  sex  accessory  ducts.  A  normal  human  sperm\\nis  composed  of  a  head,  neck,  a  middle  piece  and  tail.  The  process  of\\nformation  of  mature  female  gametes  is  called  oogenesis.  The\\nreproductive  cycle  of  female  primates  is  called  menstrual  cycle.\\nMenstrual cycle starts only after attaining sexual maturation (puberty).\\nDuring  ovulation  only  one  ovum  is  released  per  menstrual  cycle.  The\\ncyclical  changes  in  the  ovary  and  the  uterus  during  menstrual  cycle\\nare induced by changes in the levels of pituitary and ovarian hormones.\\nAfter  coitus,  sperms  are  transported  to  the  ampulla,  where  the  sperm\\nfertilises the ovum leading to formation of a diploid zygote. The presence\\nof X or Y chromosome in the sperm determines the sex of the embryo.\\nThe  zygote  undergoes  repeated  mitotic  division  to  form  a  blastocyst,\\nwhich  is  implanted  in  the  uterus  resulting  in  pregnancy.  After  nine\\nmonths  of  pregnancy,  the  fully  developed    foetus  is  ready  for  delivery.\\nThe  process  of  childbirth  is  called  parturition  which  is  induced  by  a\\ncomplex  neuroendocrine  mechanism  involving  cortisol,  estrogens  and\\noxytocin.  Mammary  glands  differentiate  during  pregnancy  and  secrete\\nmilk  after  child-birth.  The  new-born  baby  is  fed  milk  by  the  mother\\n(lactation)  during  the  initial  few  months  of  growth.\\n'],\n",
       " [30.0, 'EXERCISES\\n'],\n",
       " [9.5, '1. Fill  in  the  blanks:\\n'],\n",
       " [9.5, '(a) Humans  reproduce  _____________  (asexually/sexually)\\n'],\n",
       " [9.5,\n",
       "  '(b) Humans  are  _____________  (oviparous,  viviparous,  ovoviviparous)\\n'],\n",
       " [9.5,\n",
       "  '(c) Fertilisation  is  _____________  in  humans  (external/internal)\\n'],\n",
       " [9.5,\n",
       "  '(d) Male  and  female  gametes  are  _____________  (diploid/haploid)\\n(e) Zygote  is  _____________  (diploid/haploid)\\n'],\n",
       " [14.0, '39\\n'],\n",
       " [8.0, 'BIOLOGY\\n'],\n",
       " [9.5,\n",
       "  '(f) The  process  of  release  of  ovum  from  a  mature  follicle  is  called\\n'],\n",
       " [9.5, '_____________\\n'],\n",
       " [9.5, '(g) Ovulation  is  induced  by  a  hormone  called  _____________\\n'],\n",
       " [9.5,\n",
       "  '(h) The  fusion  of  male  and  female  gametes  is  called  _____________\\n'],\n",
       " [9.5,\n",
       "  '(i) Fertilisation  takes  place  in  _____________\\n(j) Zygote  divides  to  form  _____________which  is  implanted  in  uterus.\\n'],\n",
       " [9.5,\n",
       "  '(k) The  structure  which  provides  vascular  connection  between  foetus\\n'],\n",
       " [9.5, 'and  uterus  is  called  _____________\\n'],\n",
       " [9.5, '2. Draw  a  labelled  diagram  of  male  reproductive  system.\\n'],\n",
       " [9.5,\n",
       "  '3. Draw  a  labelled  diagram  of  female  reproductive  system.\\n4. Write  two  major  functions  each  of  testis  and  ovary.\\n'],\n",
       " [9.5, '5. Describe  the  structure  of  a  seminiferous  tubule.\\n'],\n",
       " [9.5,\n",
       "  '6. What is spermatogenesis? Briefly describe the process of spermatogenesis.\\n'],\n",
       " [9.5,\n",
       "  '7. Name  the  hormones  involved  in  regulation  of  spermatogenesis.\\n'],\n",
       " [9.5,\n",
       "  '8. Define  spermiogenesis  and  spermiation.\\n9. Draw  a  labelled  diagram  of  sperm.\\n'],\n",
       " [9.5, '10. What  are  the  major  components  of  seminal  plasma?\\n'],\n",
       " [9.5,\n",
       "  '11. What  are  the  major  functions  of  male  accessory  ducts  and  glands?\\n'],\n",
       " [9.5, '12. What  is  oogenesis?  Give  a  brief  account  of  oogenesis.\\n'],\n",
       " [9.5,\n",
       "  '13. Draw  a  labelled  diagram  of  a  section  through  ovary.\\n14. Draw  a  labelled  diagram  of  a  Graafian  follicle?\\n'],\n",
       " [9.5, '15. Name  the  functions  of  the  following:\\n'],\n",
       " [9.5, '(a)  Corpus  luteum\\n'],\n",
       " [9.5, '(b)  Endometrium\\n'],\n",
       " [9.5, '(c)  Acrosome\\n'],\n",
       " [9.5, '(d)  Sperm  tail\\n'],\n",
       " [9.5, '16.\\n'],\n",
       " [9.5,\n",
       "  '(e)  Fimbriae\\nIdentify  True/False  statements.  Correct  each  false  statement  to  make\\nit  true.\\n'],\n",
       " [9.5, '(a) Androgens  are  produced  by  Sertoli  cells.  (True/False)\\n'],\n",
       " [9.5,\n",
       "  '(b) Spermatozoa  get  nutrition  from  Sertoli  cells.  (True/False)\\n'],\n",
       " [9.5,\n",
       "  '(c) Leydig  cells  are  found  in  ovary.  (True/False)\\n(d) Leydig  cells  synthesise  androgens.  (True/False)\\n'],\n",
       " [9.5, '(e) Oogenesis  takes  place  in  corpus  luteum.  (True/False)\\n'],\n",
       " [9.500000000000028,\n",
       "  '(f) Menstrual  cycle  ceases  during  pregnancy.  (True/False)\\n'],\n",
       " [9.5,\n",
       "  '(g) Presence or absence of hymen is not a reliable indicator of virginity\\n'],\n",
       " [9.5, 'or  sexual  experience.  (True/False)\\n'],\n",
       " [9.5,\n",
       "  '17. What  is  menstrual  cycle?  Which  hormones  regulate  menstrual  cycle?\\n'],\n",
       " [9.5,\n",
       "  '18. What is parturition? Which hormones are involved in induction of parturition?\\n'],\n",
       " [9.5, '19.\\n'],\n",
       " [9.5,\n",
       "  'In our society the women are often blamed for giving birth to daughters.\\nCan  you  explain  why  this  is  not  correct?\\n'],\n",
       " [9.5,\n",
       "  '20. How many eggs are released by a human ovary in a month? How many\\neggs do you think would have been released if the mother gave birth to\\nidentical  twins?  Would  your  answer  change  if  the  twins  born  were\\nfraternal?\\n'],\n",
       " [9.5,\n",
       "  '21. How many eggs do you think were released by the ovary of a female dog\\n'],\n",
       " [9.5, 'which  gave  birth  to  6  puppies?\\n'],\n",
       " [14.0, '40\\n']]"
      ]
     },
     "execution_count": 117,
     "metadata": {},
     "output_type": "execute_result"
    }
   ],
   "source": [
    "context_list"
   ]
  },
  {
   "cell_type": "code",
   "execution_count": 148,
   "metadata": {},
   "outputs": [],
   "source": [
    "def seperate_text_by_font(path):\n",
    "    Extract_Data=[]\n",
    "    for page_layout in extract_pages(path):\n",
    "        for element in page_layout:\n",
    "            if isinstance(element, LTTextContainer):\n",
    "                for text_line in element:\n",
    "                    for character in text_line:\n",
    "                        if isinstance(character, LTChar):\n",
    "                            Font_size=character.size\n",
    "                Extract_Data.append([Font_size,(element.get_text())])\n",
    "    return Extract_Data\n",
    "\n",
    "def get_only_main_text(dir):\n",
    "    main_text =[]\n",
    "    context_list = seperate_text_by_font(dir)\n",
    "    for context in context_list:\n",
    "        if round(context[0],ndigits=4)== 10.5:\n",
    "            main_text.append(context[1])\n",
    "    return main_text\n",
    "\n",
    "def clean_main_text (dir):\n",
    "    pattern_to_remove = r'\\(Figure\\s+[^)]*\\)'\n",
    "    main_text_list = get_only_main_text(dir)\n",
    "    modified_text_list =[]\n",
    "    for text in main_text_list:\n",
    "        modified_text = text.replace(\"\\n\", \" \")\n",
    "        processed_text = re.sub(pattern_to_remove, '', modified_text)\n",
    "        modified_text_list.append(processed_text)\n",
    "    return \"\\n\".join(modified_text_list)\n",
    "        \n",
    "        \n",
    "\n"
   ]
  },
  {
   "cell_type": "code",
   "execution_count": 120,
   "metadata": {},
   "outputs": [],
   "source": [
    "main_context = get_only_main_text(pdf_dir)"
   ]
  },
  {
   "cell_type": "code",
   "execution_count": 121,
   "metadata": {},
   "outputs": [
    {
     "data": {
      "text/plain": [
       "['As you are aware, humans are sexually reproducing and\\nviviparous. The reproductive events in humans include\\nformation of gametes (gametogenesis), i.e., sperms in males\\nand ovum in females, transfer of sperms into the female\\ngenital tract (insemination) and fusion of male and female\\ngametes (fertilisation) leading to formation of zygote. This\\nis followed by formation and development of blastocyst\\nand  its  attachment  to  the  uterine  wall  (implantation),\\nembryonic development (gestation) and delivery of the\\nbaby (parturition). You have learnt that these reproductive\\nevents  occur  after  puberty.  There  are  remarkable\\ndifferences between the reproductive events in the male\\nand in the female, for example, sperm formation continues\\neven in old men, but formation of ovum ceases in women\\naround the age of fifty years. Let us examine the male and\\nfemale reproductive systems in human.\\n',\n",
       " 'The male reproductive system is located in the pelvis region\\n(Figure  2.1a).  It  includes  a  pair  of  testes  alongwith\\naccessory ducts, glands and the external genitalia.\\n',\n",
       " 'The testes are situated outside the\\nabdominal  cavity  within  a  pouch\\ncalled scrotum. The scrotum helps\\nin maintaining the low temperature\\nof the testes (2–2.5o C lower than\\nthe  normal \\ninternal  body\\ntemperature)  necessary  for\\nspermatogenesis. In adults, each\\ntestis is oval in shape, with a length\\nof about 4 to 5 cm and a width of\\nabout  2  to  3  cm.  The  testis  is\\ncovered by a dense covering. Each\\ntestis has about 250 compartments\\ncalled \\nlobules\\ntesticular \\n(Figure 2.1b).\\n',\n",
       " 'Each  lobule  contains  one  to\\nthree  highly  coiled  seminiferous\\ntubules  in  which  sperms  are\\nproduced. Each seminiferous tubule\\nis lined on its inside by two types\\nof  cells  called  male  germ  cells\\n(spermatogonia) and Sertoli cells\\n(Figure 2.2 ). The male germ cells\\nundergo  meiotic  divisions  finally\\nleading to sperm formation, while\\nSertoli cells provide nutrition to the\\ngerm cells. The regions outside the\\nseminiferous  tubules  called\\ninterstitial  spaces,  contain  small\\nblood vessels and interstitial cells\\nor Leydig cells (Figure 2.2). Leydig\\ncells  synthesise  and  secrete\\ntesticular  hormones  called\\nandrogens. Other  immunologically\\ncompetent cells are also present.\\n',\n",
       " 'The male sex accessory ducts include rete testis, vasa efferentia,\\nepididymis and vas deferens (Figure 2.1b). The seminiferous tubules of\\nthe testis open into the vasa efferentia through rete testis. The vasa efferentia\\nleave the testis and open into epididymis located along the posterior surface\\nof each testis. The epididymis leads to vas deferens that ascends to the\\nabdomen and loops over the urinary bladder. It receives a duct from seminal\\nvesicle and opens into urethra as the ejaculatory duct (Figure 2.1a). These\\nducts store and transport the sperms from the testis to the outside through\\nurethra. The urethra originates from the urinary bladder and extends\\nthrough the penis to its external opening called urethral meatus.\\n',\n",
       " 'The penis is the male external genitalia (Figure 2.1a, b). It is made up\\nof special tissue that helps in erection of the penis to facilitate insemination.\\nThe enlarged end of penis called the glans penis is covered by a loose fold\\nof skin called foreskin.\\n',\n",
       " 'The male accessory glands (Figure 2.1a, b) include paired seminal\\nvesicles, a prostate and paired bulbourethral glands. Secretions of these\\nglands constitute the seminal plasma which is rich in fructose, calcium\\nand certain enzymes. The secretions of bulbourethral glands also helps\\nin the lubrication of the penis.\\n',\n",
       " 'The female reproductive system consists of a pair of ovaries alongwith a pair\\nof oviducts, uterus, cervix, vagina and the external genitalia located in\\npelvic region (Figure 2.3a). These parts of the system alongwith a pair of the\\nmammary glands are integrated structurally and functionally to support\\nthe processes of ovulation, fertilisation, pregnancy, birth and child care.\\n',\n",
       " 'Ovaries are the primary female sex organs that produce the female\\ngamete  (ovum)  and  several  steroid  hormones  (ovarian  hormones).\\nThe  ovaries  are  located  one  on  each  side  of  the  lower  abdomen\\n(Figure 2.3b). Each ovary is about 2 to 4 cm in length and is connected to\\nthe pelvic wall and uterus by ligaments. Each ovary is covered by a thin\\nepithelium which encloses the ovarian stroma. The stroma is divided into\\ntwo zones – a peripheral cortex and an inner medulla.\\n',\n",
       " 'The oviducts (fallopian tubes), uterus and vagina constitute the female\\naccessory ducts. Each fallopian tube is about 10-12 cm long and extends\\nfrom the periphery of each ovary to the uterus (Figure 2.3b), the part closer\\nto  the  ovary  is  the  funnel-shaped  infundibulum.  The  edges  of  the\\ninfundibulum possess finger-like projections called fimbriae, which help in\\ncollection of the ovum after ovulation. The infundibulum leads to a wider\\n',\n",
       " 'part of the oviduct called ampulla. The last part of the oviduct, isthmus has\\na narrow lumen and it joins the uterus.\\n',\n",
       " 'The uterus is single and it is also called womb. The shape of the uterus\\nis like an inverted pear. It is supported by ligaments attached to the pelvic\\nwall. The uterus opens into vagina through a narrow cervix. The cavity of\\nthe cervix is called cervical canal (Figure 2.3b) which alongwith vagina\\nforms the birth canal. The wall of the uterus has three layers of tissue. The\\nexternal thin membranous  perimetrium,  middle  thick layer of smooth\\nmuscle, myometrium and inner glandular layer called endometrium that\\nlines the uterine cavity. The endometrium undergoes cyclical changes during\\nmenstrual cycle while the myometrium exhibits strong contraction during\\ndelivery of the baby.\\n',\n",
       " 'The female external genitalia include mons pubis, labia majora, labia\\nminora, hymen and clitoris (Figure 2.3a). Mons pubis is a cushion of fatty\\ntissue covered by skin and pubic hair. The labia majora are fleshy folds of\\ntissue, which extend down from the mons pubis and surround the vaginal\\nopening. The labia minora are paired folds of tissue under the labia majora.\\nThe opening of the vagina is often covered partially by a membrane called\\nhymen. The clitoris is a tiny finger-like structure which lies at the upper\\njunction of the two labia minora above the urethral opening.  The hymen is\\noften torn during the first coitus (intercourse). However, it can also be broken\\nby a sudden fall or jolt, insertion of a vaginal tampon, active participation\\nin some sports like horseback riding, cycling, etc. In some women the hymen\\npersists even after coitus. In fact, the presence or absence of hymen is not\\na reliable indicator of virginity or sexual experience.\\n',\n",
       " 'A functional mammary gland is characteristic of all female mammals.\\nThe  mammary  glands  are  paired  structures  (breasts)  that  contain\\nglandular tissue and variable amount of fat. The glandular tissue of each\\nbreast is divided into 15-20 mammary lobes containing clusters of cells\\ncalled alveoli (Figure 2.4). The cells of alveoli secrete milk, which is stored\\nin the cavities (lumens) of alveoli. The alveoli open into mammary tubules.\\nThe tubules of each lobe join to form a mammary duct. Several mammary\\nducts  join  to  form  a  wider  mammary  ampulla  which  is  connected  to\\nlactiferous duct through which milk is sucked out.\\n',\n",
       " 'The primary sex organs – the testis in the males and the ovaries in the\\nfemales – produce gametes, i.e, sperms and ovum, respectively, by the\\nprocess called gametogenesis. In testis, the immature male germ cells\\n(spermatogonia) produce sperms by spermatogenesis that begins at\\npuberty.  The spermatogonia (sing. spermatogonium) present on the\\ninside wall of seminiferous tubules multiply by mitotic division and\\nincrease in numbers. Each spermatogonium is diploid and contains 46\\nchromosomes.  Some  of  the  spermatogonia  called  p r i m a r y\\nspermatocytes periodically undergo meiosis. A primary spermatocyte\\ncompletes  the  first  meiotic  division  (reduction  division)  leading  to\\nformation of two equal,  haploid cells called\\nsecondary  spermatocytes,  which  have\\nonly 23 chromosomes each. The secondary\\nspermatocytes undergo the second meiotic\\ndivision  to  produce  four  equal,  haploid\\nspermatids (Figure 2.5). What would be the\\nnumber of chromosome in the spermatids?\\nThe  spermatids  are  transformed  into\\nspermatozoa  (sperms)  by  the  process\\ncalled \\nAfter\\ns p e r m i o g e n e s i s. \\nspermiogenesis,  sperm  heads  become\\nembedded in the Sertoli cells, and are finally\\nreleased from the seminiferous tubules by\\nthe process  called spermiation.\\n',\n",
       " 'Spermatogenesis  starts  at  the  age  of\\npuberty  due  to  significant  increase  in  the\\nsecretion of gonadotropin releasing hormone\\n(GnRH). This, if you recall, is a hypothalamic hormone. The increased\\nlevels of GnRH then acts at the anterior pituitary gland and stimulates\\nsecretion of two gonadotropins – luteinising hormone (LH) and follicle\\nstimulating hormone (FSH).  LH acts at the Leydig cells and stimulates\\nsynthesis and secretion of androgens. Androgens, in turn, stimulate the\\nprocess of spermatogenesis. FSH acts on the Sertoli cells and stimulates\\n',\n",
       " 'secretion  of  some  factors  which  help  in  the\\nprocess of spermiogenesis.\\n',\n",
       " 'Let us examine the structure of a sperm. It\\nis a microscopic structure composed of a head,\\nneck, a middle piece and a tail (Figure 2.6).\\nA plasma membrane envelops the whole body\\nof sperm. The sperm head contains an elongated\\nhaploid nucleus, the anterior portion of which\\nis covered by a cap-like structure, acrosome.\\nThe acrosome is filled with enzymes that help\\nfertilisation  of  the  ovum.  The  middle  piece\\npossesses  numerous  mitochondria,  which\\nproduce energy for the movement of  tail that\\nfacilitate sperm motility essential for fertilisation.\\nThe human male ejaculates about 200 to 300\\nmillion  sperms  during  a  coitus  of  which, for\\nnormal  fertility, at least 60 per cent sperms\\nmust have normal shape and size and at least\\n40  per  cent  of  them  must  show  vigorous\\nmotility.\\n',\n",
       " 'Sperms  released  from  the  seminiferous\\ntubules,  are  transported  by  the  accessory\\nducts.  Secretions  of  epididymis,  vas  deferens,  seminal  vesicle  and\\nprostate are essential for maturation and motility of sperms. The seminal\\nplasma along with the sperms constitute the semen. The functions of\\nmale sex accessory ducts and glands are maintained by the testicular\\nhormones (androgens).\\n',\n",
       " 'The process of formation of a mature female gamete is called oogenesis\\nwhich is markedly different from spermatogenesis. Oogenesis is initiated\\nduring the embryonic development stage when a couple of million gamete\\nmother cells (oogonia) are formed within each fetal ovary; no more oogonia\\nare formed and added after birth. These cells start division and enter into\\nprophase-I of the meiotic division and get temporarily arrested at that stage,\\ncalled primary oocytes. Each primary oocyte then gets surrounded by a\\nlayer of granulosa cells and is called the primary follicle (Figure 2.7). A\\nlarge number of these follicles degenerate during the phase from birth to\\npuberty. Therefore, at puberty only 60,000-80,000 primary follicles are\\nleft in each ovary. The primary follicles get surrounded by more layers of\\ngranulosa cells and a new theca and are called secondary follicles.\\n',\n",
       " 'The secondary follicle soon transforms into a tertiary follicle which is\\ncharacterised by a fluid filled cavity called antrum. The theca layer is\\norganised into an inner theca interna and an outer theca externa. It is\\nimportant to draw your attention that it is at this stage that the primary\\noocyte within the tertiary follicle grows in size and completes its first meiotic\\ndivision. It is an unequal division resulting in the formation of a large\\nhaploid secondary oocyte and a tiny first polar body (Figure 2.8b). The\\n',\n",
       " 'secondary  oocyte  retains  bulk  of  the\\nnutrient rich cytoplasm of the primary\\noocyte. Can you think of any advantage\\nfor this? Does the first polar body born\\nout of first meiotic division divide further\\nor degenerate?  At present we are not\\nvery  certain  about  this.  The  tertiary\\nfollicle further changes into the mature\\nfollicle or Graafian follicle (Figure 2.7).\\nThe  secondary  oocyte  forms  a  new\\nmembrane  called  zona  pellucida\\nsurrounding it. The Graafian follicle now\\nruptures to release the secondary oocyte\\n(ovum)  from  the  ovary  by  the\\nprocess  called  ovulation.  Can  you\\nidentify  major  differences  between\\nspermatogenesis  and  oogenesis?    A  diagrammatic  representation  of\\nspermatogenesis and oogenesis is given below (Figure 2.8).\\n',\n",
       " 'The reproductive cycle in the female primates (e.g. monkeys, apes and\\nhuman beings) is called menstrual cycle. The first menstruation begins\\nat puberty and is called menarche. In human females, menstruation\\nis repeated at an average interval of about 28/29 days, and the cycle of\\nevents starting from one menstruation till the next one is called the\\nmenstrual cycle. One ovum is released (ovulation) during the middle\\n',\n",
       " 'of each menstrual cycle. The major events of the menstrual cycle are\\nshown in Figure 2.9. The cycle starts with the menstrual phase, when\\nmenstrual flow occurs and it lasts for 3-5 days. The menstrual flow\\nresults due to breakdown of endometrial lining of the uterus and its\\nblood  vessels  which  forms  liquid  that  comes  out  through  vagina.\\nMenstruation only occurs if the released ovum is not fertilised. Lack of\\nmenstruation may be indicative of pregnancy. However, it may also be\\ncaused due to some other underlying causes like stress, poor health etc.\\nThe  menstrual  phase  is  followed  by  the  follicular  phase.  During\\nthis  phase,  the  primary  follicles  in  the  ovary  grow  to  become  a\\nfully  mature  Graafian  follicle  and  simultaneously  the  endometrium\\nof  uterus  regenerates  through  proliferation.  These  changes  in  the\\novary  and  the  uterus  are  induced  by  changes  in  the  levels  of\\npituitary  and  ovarian  hormones  (Figure  2.9).  The  secretion  of\\n',\n",
       " 'gonadotropins (LH and FSH) increases gradually during the follicular\\nphase, and stimulates follicular development as well as secretion of\\nestrogens by the growing follicles. Both LH and FSH attain a peak level\\nin the middle of cycle (about 14th day). Rapid secretion of LH leading to\\nits maximum level during the mid-cycle called LH surge induces rupture\\nof Graafian follicle and thereby the release of ovum (ovulation). The\\novulation (ovulatory phase) is followed by the luteal phase during which\\nthe remaining parts of the Graafian follicle transform as the corpus\\nluteum  (Figure  2.9).  The  corpus  luteum  secretes  large  amounts  of\\nprogesterone which is essential for maintenance of the endometrium.\\nSuch an endometrium is necessary for implantation of the fertilised\\novum and other events of pregnancy. During pregnancy all events of\\nthe menstrual cycle stop and there is no menstruation.  In the absence\\nof fertilisation, the corpus luteum degenerates. This causes disintegration\\nof the endometrium leading to menstruation, marking a new cycle.  In\\nhuman beings, menstrual cycles ceases around 50 years of age; that is\\ntermed as menopause. Cyclic menstruation is an indicator of normal\\nreproductive phase and extends between menarche and menopause.\\n',\n",
       " 'During copulation (coitus) semen is released by the penis into the vagina\\n(insemination). The motile sperms swim rapidly, pass through the cervix,\\nenter  into  the  uterus  and  finally  reach  the  ampullary  region  of  the\\nfallopian tube (Figure 2.11b). The ovum released by the ovary is also\\ntransported to the ampullary region\\nwhere  fertilisation  takes  place.\\nFertilisation  can  only  occur  if  the\\novum  and  sperms  are  transported\\nsimultaneously  to  the  ampullary\\nregion.  This is the reason why not all\\ncopulations lead to fertilisation and\\npregnancy.\\n',\n",
       " 'The process of fusion of a sperm\\nwith an ovum is called fertilisation.\\nDuring fertilisation, a sperm comes in\\ncontact with the zona pellucida layer\\nof the ovum  (Figure 2.10) and induces\\nchanges in the membrane  that block\\nthe entry of additional sperms.  Thus,\\nit  ensures  that  only  one  sperm  can\\nfertilise an ovum.  The secretions of the\\nacrosome help the sperm enter into the\\ncytoplasm  of  the  ovum  through  the\\nzona  pellucida  and  the  plasma\\n',\n",
       " 'membrane.  This  induces  the  completion  of  the  meiotic  division  of  the\\nsecondary oocyte. The second meiotic division is also unequal and results\\nin the formation of a second polar body and a haploid ovum (ootid). Soon\\nthe haploid nucleus of the sperms and that of the ovum fuse together to\\nform a diploid zygote.  How many chromosomes will be there in the zygote?\\nOne has to remember that the sex of the baby has been decided at this\\nstage itself. Let us see how? As you know the chromosome pattern in the\\nhuman female is XX and that in the male is XY. Therefore, all the haploid\\ngametes (ova) produced by the female have the sex chromosome X whereas\\nin the male gametes (sperms) the sex chromosome could be either X or Y,\\nhence, 50 per cent of sperms carry the X chromosome while the other 50 per\\ncent carry the Y. After fusion of the male and female gametes the zygote\\nwould carry either XX or XY depending on whether the sperm carrying X\\nor Y fertilised the ovum. The zygote carrying XX would develop into a female\\nbaby and XY would form a male (you will learn more about the chromosomal\\npatterns in Chapter 5). That is why, scientifically it is correct to say that the\\nsex of the baby is determined by the father and not by the mother!\\n',\n",
       " 'The mitotic division  starts as the zygote moves through the isthmus\\nof the oviduct called cleavage towards the uterus (Figure 2.11) and forms\\n2, 4, 8, 16 daughter cells called blastomeres. The embryo with 8 to 16\\n',\n",
       " 'blastomeres is called a morula (Figure 2.11e). The morula continues to\\ndivide and transforms into blastocyst (Figure 2.11g) as it moves further\\ninto the uterus. The blastomeres in the blastocyst are arranged into an\\nouter layer called trophoblast and an inner group of cells attached to\\ntrophoblast called the inner cell mass. The trophoblast layer then gets\\nattached to the endometrium and the inner cell mass gets differentiated\\nas the embryo. After attachment, the uterine cells divide rapidly and covers\\nthe  blastocyst.  As  a  result,  the  blastocyst  becomes  embedded  in  the\\nendometrium of the uterus (Figure 2.11 step H). This is called implantation\\nand it leads to pregnancy.\\n',\n",
       " 'After implantation, finger-like projections appear on the trophoblast called\\nchorionic villi which are surrounded by the uterine tissue and maternal\\nblood. The chorionic villi and uterine tissue become interdigitated with\\neach  other  and  jointly  form  a  structural  and  functional  unit  between\\ndeveloping embryo (foetus) and maternal body called placenta (Figure 2.12).\\nThe  placenta  facilitate  the  supply  of  oxygen  and  nutrients  to  the\\nembryo and also removal of carbon dioxide and excretory/waste materials\\nproduced by the embryo. The placenta is connected to the embryo through\\nan umbilical cord which helps in the transport of substances to and from\\nthe embryo. Placenta also acts as an endocrine tissue and produces\\nseveral hormones like human chorionic gonadotropin (hCG), human\\nplacental lactogen (hPL), estrogens, progestogens, etc. In the later\\nphase  of  pregnancy,  a  hormone  called  relaxin  is  also  secreted  by\\nthe  ovary.  Let  us  remember\\nthat  hCG,  hPL  and  relaxin\\nare  produced  in  women\\nonly  during  pregnancy.  In\\naddition,  during  pregnancy\\nthe levels of other hormones\\nlike estrogens, progestogens,\\ncortisol, prolactin, thyroxine,\\netc.,  are  increased  several-\\nfolds  in  the  maternal  blood.\\nIncreased production of these\\nhormones  is  essential  for\\nsupporting  the  fetal  growth,\\nmetabolic  changes  in  the\\nmother  and  maintenance  of\\npregnancy.\\n',\n",
       " 'Immediately \\n',\n",
       " 'after\\nimplantation,  the  inner  cell\\nmass  (embryo)  differentiates\\n',\n",
       " 'into an outer layer called ectoderm and an inner layer called endoderm. A\\nmesoderm soon appears between the ectoderm and the endoderm. These\\nthree layers give rise to all tissues (organs) in adults. It needs to be mentioned\\nhere that the inner cell mass contains certain cells called stem cells which\\nhave the potency to give rise to all the tissues and organs.\\n',\n",
       " 'What are the major features of embryonic development at various\\nmonths of pregnancy?  The human pregnancy lasts 9 months. Do you\\nknow for  how many months pregnancy last in dogs, elephants, cats?\\nFind out. In human beings, after one month of pregnancy, the embryo’s\\nheart is formed. The first sign of growing foetus may be noticed by listening\\nto the  heart sound carefully through the stethoscope. By the end of the\\nsecond month of pregnancy, the foetus develops limbs and digits. By the\\nend of 12 weeks (first trimester), most of the major organ systems are\\nformed,  for  example,  the  limbs  and  external  genital  organs  are  well-\\ndeveloped. The first movements of the foetus and appearance of hair on\\nthe head are usually observed during the fifth month. By the end of about\\n24 weeks (end of second trimester), the body is covered with fine hair,\\neye-lids separate, and eyelashes are formed.  By the end of nine months\\nof pregnancy, the foetus is fully developed and is ready for delivery.\\n',\n",
       " 'The  average  duration  of  human  pregnancy  is  about  9  months\\nwhich is called the gestation period. Vigorous contraction of the uterus at\\nthe end of pregnancy causes expulsion/delivery of the foetus. This process\\nof  delivery  of  the  foetus  (childbirth)  is  called  parturition.  Parturition  is\\ninduced  by  a  complex  neuroendocrine  mechanism.  The  signals  for\\nparturition  originate  from  the  fully  developed  foetus  and  the  placenta\\nwhich induce mild uterine contractions called foetal ejection reflex. This\\ntriggers release of oxytocin from the maternal pituitary. Oxytocin acts on\\nthe  uterine  muscle  and  causes  stronger  uterine  contractions,  which  in\\nturn stimulates further secretion of oxytocin. The stimulatory reflex between\\nthe  uterine  contraction  and  oxytocin  secretion  continues  resulting  in\\nstronger and stronger contractions. This leads to expulsion of the baby\\nout  of  the  uterus  through  the  birth  canal  –  parturition.  Soon  after  the\\ninfant is delivered, the placenta is also expelled out of the uterus. What do\\nyou  think  the  doctors  inject  to  induce  delivery?\\n',\n",
       " 'The mammary glands of the female undergo differentiation during\\npregnancy and starts producing milk towards the end of pregnancy by\\nthe process called lactation. This helps the mother in feeding the new-\\nborn. The milk produced during the initial few days of lactation is called\\ncolostrum  which  contains  several  antibodies  absolutely  essential  to\\ndevelop resistance for the new-born babies. Breast-feeding during the\\ninitial period of infant growth is recommended by doctors for bringing up\\na healthy baby.\\n']"
      ]
     },
     "execution_count": 121,
     "metadata": {},
     "output_type": "execute_result"
    }
   ],
   "source": [
    "main_context"
   ]
  },
  {
   "cell_type": "code",
   "execution_count": 143,
   "metadata": {},
   "outputs": [],
   "source": [
    "modified_string = main_context[6].replace(\"\\n\", \" \")"
   ]
  },
  {
   "cell_type": "code",
   "execution_count": 144,
   "metadata": {},
   "outputs": [
    {
     "data": {
      "text/plain": [
       "'The male accessory glands (Figure 2.1a, b) include paired seminal vesicles, a prostate and paired bulbourethral glands. Secretions of these glands constitute the seminal plasma which is rich in fructose, calcium and certain enzymes. The secretions of bulbourethral glands also helps in the lubrication of the penis. '"
      ]
     },
     "execution_count": 144,
     "metadata": {},
     "output_type": "execute_result"
    }
   ],
   "source": [
    "modified_string"
   ]
  },
  {
   "cell_type": "code",
   "execution_count": 145,
   "metadata": {},
   "outputs": [],
   "source": [
    "#pattern_to_remove = r\"\\(Figure\\s+\\d+(\\.\\d+[a-z])?(,\\s*\\d+(\\.\\d+[a-z])?)*\\)\"\n",
    "pattern_to_remove = r'\\(Figure\\s+[^)]*\\)'\n",
    "modified_string_1 = re.sub(pattern_to_remove, '', modified_string)\n",
    "\n"
   ]
  },
  {
   "cell_type": "code",
   "execution_count": 146,
   "metadata": {},
   "outputs": [
    {
     "data": {
      "text/plain": [
       "'The male accessory glands  include paired seminal vesicles, a prostate and paired bulbourethral glands. Secretions of these glands constitute the seminal plasma which is rich in fructose, calcium and certain enzymes. The secretions of bulbourethral glands also helps in the lubrication of the penis. '"
      ]
     },
     "execution_count": 146,
     "metadata": {},
     "output_type": "execute_result"
    }
   ],
   "source": [
    "modified_string_1"
   ]
  },
  {
   "cell_type": "code",
   "execution_count": 149,
   "metadata": {},
   "outputs": [],
   "source": [
    "processed_text = clean_main_text(pdf_dir)"
   ]
  },
  {
   "cell_type": "code",
   "execution_count": 151,
   "metadata": {},
   "outputs": [
    {
     "name": "stdout",
     "output_type": "stream",
     "text": [
      "As you are aware, humans are sexually reproducing and viviparous. The reproductive events in humans include formation of gametes (gametogenesis), i.e., sperms in males and ovum in females, transfer of sperms into the female genital tract (insemination) and fusion of male and female gametes (fertilisation) leading to formation of zygote. This is followed by formation and development of blastocyst and  its  attachment  to  the  uterine  wall  (implantation), embryonic development (gestation) and delivery of the baby (parturition). You have learnt that these reproductive events  occur  after  puberty.  There  are  remarkable differences between the reproductive events in the male and in the female, for example, sperm formation continues even in old men, but formation of ovum ceases in women around the age of fifty years. Let us examine the male and female reproductive systems in human. \n",
      "The male reproductive system is located in the pelvis region .  It  includes  a  pair  of  testes  alongwith accessory ducts, glands and the external genitalia. \n",
      "The testes are situated outside the abdominal  cavity  within  a  pouch called scrotum. The scrotum helps in maintaining the low temperature of the testes (2–2.5o C lower than the  normal  internal  body temperature)  necessary  for spermatogenesis. In adults, each testis is oval in shape, with a length of about 4 to 5 cm and a width of about  2  to  3  cm.  The  testis  is covered by a dense covering. Each testis has about 250 compartments called  lobules testicular  . \n",
      "Each  lobule  contains  one  to three  highly  coiled  seminiferous tubules  in  which  sperms  are produced. Each seminiferous tubule is lined on its inside by two types of  cells  called  male  germ  cells (spermatogonia) and Sertoli cells . The male germ cells undergo  meiotic  divisions  finally leading to sperm formation, while Sertoli cells provide nutrition to the germ cells. The regions outside the seminiferous  tubules  called interstitial  spaces,  contain  small blood vessels and interstitial cells or Leydig cells . Leydig cells  synthesise  and  secrete testicular  hormones  called androgens. Other  immunologically competent cells are also present. \n",
      "The male sex accessory ducts include rete testis, vasa efferentia, epididymis and vas deferens . The seminiferous tubules of the testis open into the vasa efferentia through rete testis. The vasa efferentia leave the testis and open into epididymis located along the posterior surface of each testis. The epididymis leads to vas deferens that ascends to the abdomen and loops over the urinary bladder. It receives a duct from seminal vesicle and opens into urethra as the ejaculatory duct . These ducts store and transport the sperms from the testis to the outside through urethra. The urethra originates from the urinary bladder and extends through the penis to its external opening called urethral meatus. \n",
      "The penis is the male external genitalia . It is made up of special tissue that helps in erection of the penis to facilitate insemination. The enlarged end of penis called the glans penis is covered by a loose fold of skin called foreskin. \n",
      "The male accessory glands  include paired seminal vesicles, a prostate and paired bulbourethral glands. Secretions of these glands constitute the seminal plasma which is rich in fructose, calcium and certain enzymes. The secretions of bulbourethral glands also helps in the lubrication of the penis. \n",
      "The female reproductive system consists of a pair of ovaries alongwith a pair of oviducts, uterus, cervix, vagina and the external genitalia located in pelvic region . These parts of the system alongwith a pair of the mammary glands are integrated structurally and functionally to support the processes of ovulation, fertilisation, pregnancy, birth and child care. \n",
      "Ovaries are the primary female sex organs that produce the female gamete  (ovum)  and  several  steroid  hormones  (ovarian  hormones). The  ovaries  are  located  one  on  each  side  of  the  lower  abdomen . Each ovary is about 2 to 4 cm in length and is connected to the pelvic wall and uterus by ligaments. Each ovary is covered by a thin epithelium which encloses the ovarian stroma. The stroma is divided into two zones – a peripheral cortex and an inner medulla. \n",
      "The oviducts (fallopian tubes), uterus and vagina constitute the female accessory ducts. Each fallopian tube is about 10-12 cm long and extends from the periphery of each ovary to the uterus , the part closer to  the  ovary  is  the  funnel-shaped  infundibulum.  The  edges  of  the infundibulum possess finger-like projections called fimbriae, which help in collection of the ovum after ovulation. The infundibulum leads to a wider \n",
      "part of the oviduct called ampulla. The last part of the oviduct, isthmus has a narrow lumen and it joins the uterus. \n",
      "The uterus is single and it is also called womb. The shape of the uterus is like an inverted pear. It is supported by ligaments attached to the pelvic wall. The uterus opens into vagina through a narrow cervix. The cavity of the cervix is called cervical canal  which alongwith vagina forms the birth canal. The wall of the uterus has three layers of tissue. The external thin membranous  perimetrium,  middle  thick layer of smooth muscle, myometrium and inner glandular layer called endometrium that lines the uterine cavity. The endometrium undergoes cyclical changes during menstrual cycle while the myometrium exhibits strong contraction during delivery of the baby. \n",
      "The female external genitalia include mons pubis, labia majora, labia minora, hymen and clitoris . Mons pubis is a cushion of fatty tissue covered by skin and pubic hair. The labia majora are fleshy folds of tissue, which extend down from the mons pubis and surround the vaginal opening. The labia minora are paired folds of tissue under the labia majora. The opening of the vagina is often covered partially by a membrane called hymen. The clitoris is a tiny finger-like structure which lies at the upper junction of the two labia minora above the urethral opening.  The hymen is often torn during the first coitus (intercourse). However, it can also be broken by a sudden fall or jolt, insertion of a vaginal tampon, active participation in some sports like horseback riding, cycling, etc. In some women the hymen persists even after coitus. In fact, the presence or absence of hymen is not a reliable indicator of virginity or sexual experience. \n",
      "A functional mammary gland is characteristic of all female mammals. The  mammary  glands  are  paired  structures  (breasts)  that  contain glandular tissue and variable amount of fat. The glandular tissue of each breast is divided into 15-20 mammary lobes containing clusters of cells called alveoli . The cells of alveoli secrete milk, which is stored in the cavities (lumens) of alveoli. The alveoli open into mammary tubules. The tubules of each lobe join to form a mammary duct. Several mammary ducts  join  to  form  a  wider  mammary  ampulla  which  is  connected  to lactiferous duct through which milk is sucked out. \n",
      "The primary sex organs – the testis in the males and the ovaries in the females – produce gametes, i.e, sperms and ovum, respectively, by the process called gametogenesis. In testis, the immature male germ cells (spermatogonia) produce sperms by spermatogenesis that begins at puberty.  The spermatogonia (sing. spermatogonium) present on the inside wall of seminiferous tubules multiply by mitotic division and increase in numbers. Each spermatogonium is diploid and contains 46 chromosomes.  Some  of  the  spermatogonia  called  p r i m a r y spermatocytes periodically undergo meiosis. A primary spermatocyte completes  the  first  meiotic  division  (reduction  division)  leading  to formation of two equal,  haploid cells called secondary  spermatocytes,  which  have only 23 chromosomes each. The secondary spermatocytes undergo the second meiotic division  to  produce  four  equal,  haploid spermatids . What would be the number of chromosome in the spermatids? The  spermatids  are  transformed  into spermatozoa  (sperms)  by  the  process called  After s p e r m i o g e n e s i s.  spermiogenesis,  sperm  heads  become embedded in the Sertoli cells, and are finally released from the seminiferous tubules by the process  called spermiation. \n",
      "Spermatogenesis  starts  at  the  age  of puberty  due  to  significant  increase  in  the secretion of gonadotropin releasing hormone (GnRH). This, if you recall, is a hypothalamic hormone. The increased levels of GnRH then acts at the anterior pituitary gland and stimulates secretion of two gonadotropins – luteinising hormone (LH) and follicle stimulating hormone (FSH).  LH acts at the Leydig cells and stimulates synthesis and secretion of androgens. Androgens, in turn, stimulate the process of spermatogenesis. FSH acts on the Sertoli cells and stimulates \n",
      "secretion  of  some  factors  which  help  in  the process of spermiogenesis. \n",
      "Let us examine the structure of a sperm. It is a microscopic structure composed of a head, neck, a middle piece and a tail . A plasma membrane envelops the whole body of sperm. The sperm head contains an elongated haploid nucleus, the anterior portion of which is covered by a cap-like structure, acrosome. The acrosome is filled with enzymes that help fertilisation  of  the  ovum.  The  middle  piece possesses  numerous  mitochondria,  which produce energy for the movement of  tail that facilitate sperm motility essential for fertilisation. The human male ejaculates about 200 to 300 million  sperms  during  a  coitus  of  which, for normal  fertility, at least 60 per cent sperms must have normal shape and size and at least 40  per  cent  of  them  must  show  vigorous motility. \n",
      "Sperms  released  from  the  seminiferous tubules,  are  transported  by  the  accessory ducts.  Secretions  of  epididymis,  vas  deferens,  seminal  vesicle  and prostate are essential for maturation and motility of sperms. The seminal plasma along with the sperms constitute the semen. The functions of male sex accessory ducts and glands are maintained by the testicular hormones (androgens). \n",
      "The process of formation of a mature female gamete is called oogenesis which is markedly different from spermatogenesis. Oogenesis is initiated during the embryonic development stage when a couple of million gamete mother cells (oogonia) are formed within each fetal ovary; no more oogonia are formed and added after birth. These cells start division and enter into prophase-I of the meiotic division and get temporarily arrested at that stage, called primary oocytes. Each primary oocyte then gets surrounded by a layer of granulosa cells and is called the primary follicle . A large number of these follicles degenerate during the phase from birth to puberty. Therefore, at puberty only 60,000-80,000 primary follicles are left in each ovary. The primary follicles get surrounded by more layers of granulosa cells and a new theca and are called secondary follicles. \n",
      "The secondary follicle soon transforms into a tertiary follicle which is characterised by a fluid filled cavity called antrum. The theca layer is organised into an inner theca interna and an outer theca externa. It is important to draw your attention that it is at this stage that the primary oocyte within the tertiary follicle grows in size and completes its first meiotic division. It is an unequal division resulting in the formation of a large haploid secondary oocyte and a tiny first polar body . The \n",
      "secondary  oocyte  retains  bulk  of  the nutrient rich cytoplasm of the primary oocyte. Can you think of any advantage for this? Does the first polar body born out of first meiotic division divide further or degenerate?  At present we are not very  certain  about  this.  The  tertiary follicle further changes into the mature follicle or Graafian follicle . The  secondary  oocyte  forms  a  new membrane  called  zona  pellucida surrounding it. The Graafian follicle now ruptures to release the secondary oocyte (ovum)  from  the  ovary  by  the process  called  ovulation.  Can  you identify  major  differences  between spermatogenesis  and  oogenesis?    A  diagrammatic  representation  of spermatogenesis and oogenesis is given below . \n",
      "The reproductive cycle in the female primates (e.g. monkeys, apes and human beings) is called menstrual cycle. The first menstruation begins at puberty and is called menarche. In human females, menstruation is repeated at an average interval of about 28/29 days, and the cycle of events starting from one menstruation till the next one is called the menstrual cycle. One ovum is released (ovulation) during the middle \n",
      "of each menstrual cycle. The major events of the menstrual cycle are shown in Figure 2.9. The cycle starts with the menstrual phase, when menstrual flow occurs and it lasts for 3-5 days. The menstrual flow results due to breakdown of endometrial lining of the uterus and its blood  vessels  which  forms  liquid  that  comes  out  through  vagina. Menstruation only occurs if the released ovum is not fertilised. Lack of menstruation may be indicative of pregnancy. However, it may also be caused due to some other underlying causes like stress, poor health etc. The  menstrual  phase  is  followed  by  the  follicular  phase.  During this  phase,  the  primary  follicles  in  the  ovary  grow  to  become  a fully  mature  Graafian  follicle  and  simultaneously  the  endometrium of  uterus  regenerates  through  proliferation.  These  changes  in  the ovary  and  the  uterus  are  induced  by  changes  in  the  levels  of pituitary  and  ovarian  hormones  .  The  secretion  of \n",
      "gonadotropins (LH and FSH) increases gradually during the follicular phase, and stimulates follicular development as well as secretion of estrogens by the growing follicles. Both LH and FSH attain a peak level in the middle of cycle (about 14th day). Rapid secretion of LH leading to its maximum level during the mid-cycle called LH surge induces rupture of Graafian follicle and thereby the release of ovum (ovulation). The ovulation (ovulatory phase) is followed by the luteal phase during which the remaining parts of the Graafian follicle transform as the corpus luteum  .  The  corpus  luteum  secretes  large  amounts  of progesterone which is essential for maintenance of the endometrium. Such an endometrium is necessary for implantation of the fertilised ovum and other events of pregnancy. During pregnancy all events of the menstrual cycle stop and there is no menstruation.  In the absence of fertilisation, the corpus luteum degenerates. This causes disintegration of the endometrium leading to menstruation, marking a new cycle.  In human beings, menstrual cycles ceases around 50 years of age; that is termed as menopause. Cyclic menstruation is an indicator of normal reproductive phase and extends between menarche and menopause. \n",
      "During copulation (coitus) semen is released by the penis into the vagina (insemination). The motile sperms swim rapidly, pass through the cervix, enter  into  the  uterus  and  finally  reach  the  ampullary  region  of  the fallopian tube . The ovum released by the ovary is also transported to the ampullary region where  fertilisation  takes  place. Fertilisation  can  only  occur  if  the ovum  and  sperms  are  transported simultaneously  to  the  ampullary region.  This is the reason why not all copulations lead to fertilisation and pregnancy. \n",
      "The process of fusion of a sperm with an ovum is called fertilisation. During fertilisation, a sperm comes in contact with the zona pellucida layer of the ovum   and induces changes in the membrane  that block the entry of additional sperms.  Thus, it  ensures  that  only  one  sperm  can fertilise an ovum.  The secretions of the acrosome help the sperm enter into the cytoplasm  of  the  ovum  through  the zona  pellucida  and  the  plasma \n",
      "membrane.  This  induces  the  completion  of  the  meiotic  division  of  the secondary oocyte. The second meiotic division is also unequal and results in the formation of a second polar body and a haploid ovum (ootid). Soon the haploid nucleus of the sperms and that of the ovum fuse together to form a diploid zygote.  How many chromosomes will be there in the zygote? One has to remember that the sex of the baby has been decided at this stage itself. Let us see how? As you know the chromosome pattern in the human female is XX and that in the male is XY. Therefore, all the haploid gametes (ova) produced by the female have the sex chromosome X whereas in the male gametes (sperms) the sex chromosome could be either X or Y, hence, 50 per cent of sperms carry the X chromosome while the other 50 per cent carry the Y. After fusion of the male and female gametes the zygote would carry either XX or XY depending on whether the sperm carrying X or Y fertilised the ovum. The zygote carrying XX would develop into a female baby and XY would form a male (you will learn more about the chromosomal patterns in Chapter 5). That is why, scientifically it is correct to say that the sex of the baby is determined by the father and not by the mother! \n",
      "The mitotic division  starts as the zygote moves through the isthmus of the oviduct called cleavage towards the uterus  and forms 2, 4, 8, 16 daughter cells called blastomeres. The embryo with 8 to 16 \n",
      "blastomeres is called a morula . The morula continues to divide and transforms into blastocyst  as it moves further into the uterus. The blastomeres in the blastocyst are arranged into an outer layer called trophoblast and an inner group of cells attached to trophoblast called the inner cell mass. The trophoblast layer then gets attached to the endometrium and the inner cell mass gets differentiated as the embryo. After attachment, the uterine cells divide rapidly and covers the  blastocyst.  As  a  result,  the  blastocyst  becomes  embedded  in  the endometrium of the uterus . This is called implantation and it leads to pregnancy. \n",
      "After implantation, finger-like projections appear on the trophoblast called chorionic villi which are surrounded by the uterine tissue and maternal blood. The chorionic villi and uterine tissue become interdigitated with each  other  and  jointly  form  a  structural  and  functional  unit  between developing embryo (foetus) and maternal body called placenta . The  placenta  facilitate  the  supply  of  oxygen  and  nutrients  to  the embryo and also removal of carbon dioxide and excretory/waste materials produced by the embryo. The placenta is connected to the embryo through an umbilical cord which helps in the transport of substances to and from the embryo. Placenta also acts as an endocrine tissue and produces several hormones like human chorionic gonadotropin (hCG), human placental lactogen (hPL), estrogens, progestogens, etc. In the later phase  of  pregnancy,  a  hormone  called  relaxin  is  also  secreted  by the  ovary.  Let  us  remember that  hCG,  hPL  and  relaxin are  produced  in  women only  during  pregnancy.  In addition,  during  pregnancy the levels of other hormones like estrogens, progestogens, cortisol, prolactin, thyroxine, etc.,  are  increased  several- folds  in  the  maternal  blood. Increased production of these hormones  is  essential  for supporting  the  fetal  growth, metabolic  changes  in  the mother  and  maintenance  of pregnancy. \n",
      "Immediately  \n",
      "after implantation,  the  inner  cell mass  (embryo)  differentiates \n",
      "into an outer layer called ectoderm and an inner layer called endoderm. A mesoderm soon appears between the ectoderm and the endoderm. These three layers give rise to all tissues (organs) in adults. It needs to be mentioned here that the inner cell mass contains certain cells called stem cells which have the potency to give rise to all the tissues and organs. \n",
      "What are the major features of embryonic development at various months of pregnancy?  The human pregnancy lasts 9 months. Do you know for  how many months pregnancy last in dogs, elephants, cats? Find out. In human beings, after one month of pregnancy, the embryo’s heart is formed. The first sign of growing foetus may be noticed by listening to the  heart sound carefully through the stethoscope. By the end of the second month of pregnancy, the foetus develops limbs and digits. By the end of 12 weeks (first trimester), most of the major organ systems are formed,  for  example,  the  limbs  and  external  genital  organs  are  well- developed. The first movements of the foetus and appearance of hair on the head are usually observed during the fifth month. By the end of about 24 weeks (end of second trimester), the body is covered with fine hair, eye-lids separate, and eyelashes are formed.  By the end of nine months of pregnancy, the foetus is fully developed and is ready for delivery. \n",
      "The  average  duration  of  human  pregnancy  is  about  9  months which is called the gestation period. Vigorous contraction of the uterus at the end of pregnancy causes expulsion/delivery of the foetus. This process of  delivery  of  the  foetus  (childbirth)  is  called  parturition.  Parturition  is induced  by  a  complex  neuroendocrine  mechanism.  The  signals  for parturition  originate  from  the  fully  developed  foetus  and  the  placenta which induce mild uterine contractions called foetal ejection reflex. This triggers release of oxytocin from the maternal pituitary. Oxytocin acts on the  uterine  muscle  and  causes  stronger  uterine  contractions,  which  in turn stimulates further secretion of oxytocin. The stimulatory reflex between the  uterine  contraction  and  oxytocin  secretion  continues  resulting  in stronger and stronger contractions. This leads to expulsion of the baby out  of  the  uterus  through  the  birth  canal  –  parturition.  Soon  after  the infant is delivered, the placenta is also expelled out of the uterus. What do you  think  the  doctors  inject  to  induce  delivery? \n",
      "The mammary glands of the female undergo differentiation during pregnancy and starts producing milk towards the end of pregnancy by the process called lactation. This helps the mother in feeding the new- born. The milk produced during the initial few days of lactation is called colostrum  which  contains  several  antibodies  absolutely  essential  to develop resistance for the new-born babies. Breast-feeding during the initial period of infant growth is recommended by doctors for bringing up a healthy baby. \n"
     ]
    }
   ],
   "source": [
    "print(processed_text)"
   ]
  },
  {
   "cell_type": "code",
   "execution_count": null,
   "metadata": {},
   "outputs": [],
   "source": [
    "text_file = open(\"processed_reproduction.txt\", \"w\")\n",
    "text_file.write(processed_text)\n",
    "text_file.close()\n"
   ]
  },
  {
   "cell_type": "code",
   "execution_count": 13,
   "metadata": {},
   "outputs": [],
   "source": [
    "import numpy as np\n",
    "import pandas as pd"
   ]
  },
  {
   "cell_type": "code",
   "execution_count": 19,
   "metadata": {},
   "outputs": [],
   "source": [
    "df = pd.DataFrame({\n",
    "    0:np.zeros(10),\n",
    "    1 : np.ones(10)\n",
    "    })"
   ]
  },
  {
   "cell_type": "code",
   "execution_count": 20,
   "metadata": {},
   "outputs": [
    {
     "data": {
      "text/html": [
       "<div>\n",
       "<style scoped>\n",
       "    .dataframe tbody tr th:only-of-type {\n",
       "        vertical-align: middle;\n",
       "    }\n",
       "\n",
       "    .dataframe tbody tr th {\n",
       "        vertical-align: top;\n",
       "    }\n",
       "\n",
       "    .dataframe thead th {\n",
       "        text-align: right;\n",
       "    }\n",
       "</style>\n",
       "<table border=\"1\" class=\"dataframe\">\n",
       "  <thead>\n",
       "    <tr style=\"text-align: right;\">\n",
       "      <th></th>\n",
       "      <th>0</th>\n",
       "      <th>1</th>\n",
       "    </tr>\n",
       "  </thead>\n",
       "  <tbody>\n",
       "    <tr>\n",
       "      <th>0</th>\n",
       "      <td>0.0</td>\n",
       "      <td>1.0</td>\n",
       "    </tr>\n",
       "    <tr>\n",
       "      <th>1</th>\n",
       "      <td>0.0</td>\n",
       "      <td>1.0</td>\n",
       "    </tr>\n",
       "    <tr>\n",
       "      <th>2</th>\n",
       "      <td>0.0</td>\n",
       "      <td>1.0</td>\n",
       "    </tr>\n",
       "    <tr>\n",
       "      <th>3</th>\n",
       "      <td>0.0</td>\n",
       "      <td>1.0</td>\n",
       "    </tr>\n",
       "    <tr>\n",
       "      <th>4</th>\n",
       "      <td>0.0</td>\n",
       "      <td>1.0</td>\n",
       "    </tr>\n",
       "    <tr>\n",
       "      <th>5</th>\n",
       "      <td>0.0</td>\n",
       "      <td>1.0</td>\n",
       "    </tr>\n",
       "    <tr>\n",
       "      <th>6</th>\n",
       "      <td>0.0</td>\n",
       "      <td>1.0</td>\n",
       "    </tr>\n",
       "    <tr>\n",
       "      <th>7</th>\n",
       "      <td>0.0</td>\n",
       "      <td>1.0</td>\n",
       "    </tr>\n",
       "    <tr>\n",
       "      <th>8</th>\n",
       "      <td>0.0</td>\n",
       "      <td>1.0</td>\n",
       "    </tr>\n",
       "    <tr>\n",
       "      <th>9</th>\n",
       "      <td>0.0</td>\n",
       "      <td>1.0</td>\n",
       "    </tr>\n",
       "  </tbody>\n",
       "</table>\n",
       "</div>"
      ],
      "text/plain": [
       "     0    1\n",
       "0  0.0  1.0\n",
       "1  0.0  1.0\n",
       "2  0.0  1.0\n",
       "3  0.0  1.0\n",
       "4  0.0  1.0\n",
       "5  0.0  1.0\n",
       "6  0.0  1.0\n",
       "7  0.0  1.0\n",
       "8  0.0  1.0\n",
       "9  0.0  1.0"
      ]
     },
     "execution_count": 20,
     "metadata": {},
     "output_type": "execute_result"
    }
   ],
   "source": [
    "df"
   ]
  },
  {
   "cell_type": "code",
   "execution_count": 25,
   "metadata": {},
   "outputs": [
    {
     "data": {
      "text/plain": [
       "array(['What is the inner cell mass called in human reproduction blastomeres?',\n",
       "       'What is the process called that produces sperms?'], dtype=object)"
      ]
     },
     "execution_count": 25,
     "metadata": {},
     "output_type": "execute_result"
    }
   ],
   "source": [
    "questions_dir = \"C:\\\\Users\\\\rishi\\\\OneDrive\\\\Desktop\\\\projects\\\\Venuratech\\\\Flash-Card-Generator\\\\files\\\\generated_questions.csv\"\n",
    "pd.read_csv(questions_dir).values.flatten()[:2]"
   ]
  },
  {
   "cell_type": "code",
   "execution_count": null,
   "metadata": {},
   "outputs": [],
   "source": []
  }
 ],
 "metadata": {
  "kernelspec": {
   "display_name": ".venv",
   "language": "python",
   "name": "python3"
  },
  "language_info": {
   "codemirror_mode": {
    "name": "ipython",
    "version": 3
   },
   "file_extension": ".py",
   "mimetype": "text/x-python",
   "name": "python",
   "nbconvert_exporter": "python",
   "pygments_lexer": "ipython3",
   "version": "3.9.10"
  }
 },
 "nbformat": 4,
 "nbformat_minor": 2
}
